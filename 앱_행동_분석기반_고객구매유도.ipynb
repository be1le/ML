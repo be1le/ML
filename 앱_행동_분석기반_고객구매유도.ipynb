{
  "nbformat": 4,
  "nbformat_minor": 0,
  "metadata": {
    "colab": {
      "name": "앱_행동_분석기반_고객구매유도",
      "provenance": [],
      "collapsed_sections": [
        "PW4T2Cy5eMKh"
      ],
      "authorship_tag": "ABX9TyOxrtJC5gbouq1bjhGS0g2u",
      "include_colab_link": true
    },
    "kernelspec": {
      "name": "python3",
      "display_name": "Python 3"
    },
    "language_info": {
      "name": "python"
    },
    "accelerator": "GPU"
  },
  "cells": [
    {
      "cell_type": "markdown",
      "metadata": {
        "id": "view-in-github",
        "colab_type": "text"
      },
      "source": [
        "<a href=\"https://colab.research.google.com/github/be1le/machine-learning/blob/main/%EC%95%B1_%ED%96%89%EB%8F%99_%EB%B6%84%EC%84%9D%EA%B8%B0%EB%B0%98_%EA%B3%A0%EA%B0%9D%EA%B5%AC%EB%A7%A4%EC%9C%A0%EB%8F%84.ipynb\" target=\"_parent\"><img src=\"https://colab.research.google.com/assets/colab-badge.svg\" alt=\"Open In Colab\"/></a>"
      ]
    },
    {
      "cell_type": "markdown",
      "source": [
        "# importing Libraries"
      ],
      "metadata": {
        "id": "5dRJIpijetAh"
      }
    },
    {
      "cell_type": "code",
      "execution_count": null,
      "metadata": {
        "id": "5rZyZEdXcLE8"
      },
      "outputs": [],
      "source": [
        "import pandas as pd\n",
        "import numpy as np\n",
        "import seaborn as sn\n",
        "import matplotlib.pyplot as plt\n",
        "import time"
      ]
    },
    {
      "cell_type": "markdown",
      "source": [
        "#importing data"
      ],
      "metadata": {
        "id": "Y0PjRkN0emgM"
      }
    },
    {
      "cell_type": "code",
      "source": [
        "dataset = pd.read_csv('new_appdata10.csv', engine='python')\n",
        "dataset.head()"
      ],
      "metadata": {
        "colab": {
          "base_uri": "https://localhost:8080/",
          "height": 206
        },
        "id": "rvzDRzuDceGd",
        "outputId": "9ae7156c-df91-4d4f-e01d-1dea69cd8b03"
      },
      "execution_count": null,
      "outputs": [
        {
          "output_type": "execute_result",
          "data": {
            "text/plain": [
              "     user               first_open  dayofweek       hour  age  \\\n",
              "0  235136  2012-12-27 02:14:51.273          3   02:00:00   23   \n",
              "1  333588  2012-12-02 01:16:00.905          6   01:00:00   24   \n",
              "2  254414  2013-03-19 19:19:09.157          1   19:00:00   23   \n",
              "3  234192  2013-07-05 16:08:46.354          4   16:00:00   28   \n",
              "4   51549  2013-02-26 18:50:48.661          1   18:00:00   31   \n",
              "\n",
              "                                         screen_list  numscreens  minigame  \\\n",
              "0  idscreen,joinscreen,Cycle,product_review,ScanP...          15         0   \n",
              "1  joinscreen,product_review,product_review2,Scan...          13         0   \n",
              "2                                  Splash,Cycle,Loan           3         0   \n",
              "3  product_review,Home,product_review,Loan3,Finan...          40         0   \n",
              "4  idscreen,joinscreen,Cycle,Credit3Container,Sca...          32         0   \n",
              "\n",
              "   used_premium_feature  enrolled            enrolled_date  liked  \n",
              "0                     0         0                      NaN      0  \n",
              "1                     0         0                      NaN      0  \n",
              "2                     1         0                      NaN      1  \n",
              "3                     0         1  2013-07-05 16:11:49.513      0  \n",
              "4                     0         1  2013-02-26 18:56:37.841      1  "
            ],
            "text/html": [
              "\n",
              "  <div id=\"df-1a349080-767c-428b-94c0-7dfd6b3ac1b6\">\n",
              "    <div class=\"colab-df-container\">\n",
              "      <div>\n",
              "<style scoped>\n",
              "    .dataframe tbody tr th:only-of-type {\n",
              "        vertical-align: middle;\n",
              "    }\n",
              "\n",
              "    .dataframe tbody tr th {\n",
              "        vertical-align: top;\n",
              "    }\n",
              "\n",
              "    .dataframe thead th {\n",
              "        text-align: right;\n",
              "    }\n",
              "</style>\n",
              "<table border=\"1\" class=\"dataframe\">\n",
              "  <thead>\n",
              "    <tr style=\"text-align: right;\">\n",
              "      <th></th>\n",
              "      <th>user</th>\n",
              "      <th>first_open</th>\n",
              "      <th>dayofweek</th>\n",
              "      <th>hour</th>\n",
              "      <th>age</th>\n",
              "      <th>screen_list</th>\n",
              "      <th>numscreens</th>\n",
              "      <th>minigame</th>\n",
              "      <th>used_premium_feature</th>\n",
              "      <th>enrolled</th>\n",
              "      <th>enrolled_date</th>\n",
              "      <th>liked</th>\n",
              "    </tr>\n",
              "  </thead>\n",
              "  <tbody>\n",
              "    <tr>\n",
              "      <th>0</th>\n",
              "      <td>235136</td>\n",
              "      <td>2012-12-27 02:14:51.273</td>\n",
              "      <td>3</td>\n",
              "      <td>02:00:00</td>\n",
              "      <td>23</td>\n",
              "      <td>idscreen,joinscreen,Cycle,product_review,ScanP...</td>\n",
              "      <td>15</td>\n",
              "      <td>0</td>\n",
              "      <td>0</td>\n",
              "      <td>0</td>\n",
              "      <td>NaN</td>\n",
              "      <td>0</td>\n",
              "    </tr>\n",
              "    <tr>\n",
              "      <th>1</th>\n",
              "      <td>333588</td>\n",
              "      <td>2012-12-02 01:16:00.905</td>\n",
              "      <td>6</td>\n",
              "      <td>01:00:00</td>\n",
              "      <td>24</td>\n",
              "      <td>joinscreen,product_review,product_review2,Scan...</td>\n",
              "      <td>13</td>\n",
              "      <td>0</td>\n",
              "      <td>0</td>\n",
              "      <td>0</td>\n",
              "      <td>NaN</td>\n",
              "      <td>0</td>\n",
              "    </tr>\n",
              "    <tr>\n",
              "      <th>2</th>\n",
              "      <td>254414</td>\n",
              "      <td>2013-03-19 19:19:09.157</td>\n",
              "      <td>1</td>\n",
              "      <td>19:00:00</td>\n",
              "      <td>23</td>\n",
              "      <td>Splash,Cycle,Loan</td>\n",
              "      <td>3</td>\n",
              "      <td>0</td>\n",
              "      <td>1</td>\n",
              "      <td>0</td>\n",
              "      <td>NaN</td>\n",
              "      <td>1</td>\n",
              "    </tr>\n",
              "    <tr>\n",
              "      <th>3</th>\n",
              "      <td>234192</td>\n",
              "      <td>2013-07-05 16:08:46.354</td>\n",
              "      <td>4</td>\n",
              "      <td>16:00:00</td>\n",
              "      <td>28</td>\n",
              "      <td>product_review,Home,product_review,Loan3,Finan...</td>\n",
              "      <td>40</td>\n",
              "      <td>0</td>\n",
              "      <td>0</td>\n",
              "      <td>1</td>\n",
              "      <td>2013-07-05 16:11:49.513</td>\n",
              "      <td>0</td>\n",
              "    </tr>\n",
              "    <tr>\n",
              "      <th>4</th>\n",
              "      <td>51549</td>\n",
              "      <td>2013-02-26 18:50:48.661</td>\n",
              "      <td>1</td>\n",
              "      <td>18:00:00</td>\n",
              "      <td>31</td>\n",
              "      <td>idscreen,joinscreen,Cycle,Credit3Container,Sca...</td>\n",
              "      <td>32</td>\n",
              "      <td>0</td>\n",
              "      <td>0</td>\n",
              "      <td>1</td>\n",
              "      <td>2013-02-26 18:56:37.841</td>\n",
              "      <td>1</td>\n",
              "    </tr>\n",
              "  </tbody>\n",
              "</table>\n",
              "</div>\n",
              "      <button class=\"colab-df-convert\" onclick=\"convertToInteractive('df-1a349080-767c-428b-94c0-7dfd6b3ac1b6')\"\n",
              "              title=\"Convert this dataframe to an interactive table.\"\n",
              "              style=\"display:none;\">\n",
              "        \n",
              "  <svg xmlns=\"http://www.w3.org/2000/svg\" height=\"24px\"viewBox=\"0 0 24 24\"\n",
              "       width=\"24px\">\n",
              "    <path d=\"M0 0h24v24H0V0z\" fill=\"none\"/>\n",
              "    <path d=\"M18.56 5.44l.94 2.06.94-2.06 2.06-.94-2.06-.94-.94-2.06-.94 2.06-2.06.94zm-11 1L8.5 8.5l.94-2.06 2.06-.94-2.06-.94L8.5 2.5l-.94 2.06-2.06.94zm10 10l.94 2.06.94-2.06 2.06-.94-2.06-.94-.94-2.06-.94 2.06-2.06.94z\"/><path d=\"M17.41 7.96l-1.37-1.37c-.4-.4-.92-.59-1.43-.59-.52 0-1.04.2-1.43.59L10.3 9.45l-7.72 7.72c-.78.78-.78 2.05 0 2.83L4 21.41c.39.39.9.59 1.41.59.51 0 1.02-.2 1.41-.59l7.78-7.78 2.81-2.81c.8-.78.8-2.07 0-2.86zM5.41 20L4 18.59l7.72-7.72 1.47 1.35L5.41 20z\"/>\n",
              "  </svg>\n",
              "      </button>\n",
              "      \n",
              "  <style>\n",
              "    .colab-df-container {\n",
              "      display:flex;\n",
              "      flex-wrap:wrap;\n",
              "      gap: 12px;\n",
              "    }\n",
              "\n",
              "    .colab-df-convert {\n",
              "      background-color: #E8F0FE;\n",
              "      border: none;\n",
              "      border-radius: 50%;\n",
              "      cursor: pointer;\n",
              "      display: none;\n",
              "      fill: #1967D2;\n",
              "      height: 32px;\n",
              "      padding: 0 0 0 0;\n",
              "      width: 32px;\n",
              "    }\n",
              "\n",
              "    .colab-df-convert:hover {\n",
              "      background-color: #E2EBFA;\n",
              "      box-shadow: 0px 1px 2px rgba(60, 64, 67, 0.3), 0px 1px 3px 1px rgba(60, 64, 67, 0.15);\n",
              "      fill: #174EA6;\n",
              "    }\n",
              "\n",
              "    [theme=dark] .colab-df-convert {\n",
              "      background-color: #3B4455;\n",
              "      fill: #D2E3FC;\n",
              "    }\n",
              "\n",
              "    [theme=dark] .colab-df-convert:hover {\n",
              "      background-color: #434B5C;\n",
              "      box-shadow: 0px 1px 3px 1px rgba(0, 0, 0, 0.15);\n",
              "      filter: drop-shadow(0px 1px 2px rgba(0, 0, 0, 0.3));\n",
              "      fill: #FFFFFF;\n",
              "    }\n",
              "  </style>\n",
              "\n",
              "      <script>\n",
              "        const buttonEl =\n",
              "          document.querySelector('#df-1a349080-767c-428b-94c0-7dfd6b3ac1b6 button.colab-df-convert');\n",
              "        buttonEl.style.display =\n",
              "          google.colab.kernel.accessAllowed ? 'block' : 'none';\n",
              "\n",
              "        async function convertToInteractive(key) {\n",
              "          const element = document.querySelector('#df-1a349080-767c-428b-94c0-7dfd6b3ac1b6');\n",
              "          const dataTable =\n",
              "            await google.colab.kernel.invokeFunction('convertToInteractive',\n",
              "                                                     [key], {});\n",
              "          if (!dataTable) return;\n",
              "\n",
              "          const docLinkHtml = 'Like what you see? Visit the ' +\n",
              "            '<a target=\"_blank\" href=https://colab.research.google.com/notebooks/data_table.ipynb>data table notebook</a>'\n",
              "            + ' to learn more about interactive tables.';\n",
              "          element.innerHTML = '';\n",
              "          dataTable['output_type'] = 'display_data';\n",
              "          await google.colab.output.renderOutput(dataTable, element);\n",
              "          const docLink = document.createElement('div');\n",
              "          docLink.innerHTML = docLinkHtml;\n",
              "          element.appendChild(docLink);\n",
              "        }\n",
              "      </script>\n",
              "    </div>\n",
              "  </div>\n",
              "  "
            ]
          },
          "metadata": {},
          "execution_count": 2
        }
      ]
    },
    {
      "cell_type": "markdown",
      "source": [
        "#Data Pre-Processing"
      ],
      "metadata": {
        "id": "I5OoxHfDfTte"
      }
    },
    {
      "cell_type": "markdown",
      "source": [
        "## Splitting Independent and Response Variables"
      ],
      "metadata": {
        "id": "q_u-DnWHfYyr"
      }
    },
    {
      "cell_type": "code",
      "source": [
        "response = dataset[\"enrolled\"]\n",
        "dataset = dataset.drop(columns=\"enrolled\")"
      ],
      "metadata": {
        "id": "De0hwNxucrx5"
      },
      "execution_count": null,
      "outputs": []
    },
    {
      "cell_type": "markdown",
      "source": [
        "## Splitting the dataset into the Training set and Test set"
      ],
      "metadata": {
        "id": "xk-ph1kRfcZJ"
      }
    },
    {
      "cell_type": "code",
      "source": [
        "from sklearn.model_selection import train_test_split\n",
        "X_train, X_test, y_train, y_test = train_test_split(dataset, response,\n",
        "                                                    test_size = 0.2,\n",
        "                                                    random_state = 0)"
      ],
      "metadata": {
        "id": "Njifu5Qsfa0f"
      },
      "execution_count": null,
      "outputs": []
    },
    {
      "cell_type": "markdown",
      "source": [
        "## Balancing the Training Set"
      ],
      "metadata": {
        "id": "1wpmixKhflR0"
      }
    },
    {
      "cell_type": "code",
      "source": [
        " import random\n",
        " y_train.value_counts()\n",
        "\n",
        " pos_index = y_train[y_train.values == 1].index\n",
        " neg_index = y_train[y_train.values == 0].index\n",
        "\n",
        " if len(pos_index) > len(neg_index):\n",
        "     higher = pos_index\n",
        "     lower = neg_index\n",
        " else:\n",
        "     higher = neg_index\n",
        "     lower = pos_index\n",
        "\n",
        " random.seed(0)\n",
        " higher = np.random.choice(higher, size=len(lower))\n",
        " lower = np.asarray(lower)\n",
        " new_indexes = np.concatenate((lower, higher))\n",
        "\n",
        " X_train = X_train.loc[new_indexes,]\n",
        " y_train = y_train[new_indexes]"
      ],
      "metadata": {
        "id": "7Iu_zJo9fgFk"
      },
      "execution_count": null,
      "outputs": []
    },
    {
      "cell_type": "markdown",
      "source": [
        "## Removing Identifiers"
      ],
      "metadata": {
        "id": "lb0eJNmifvjf"
      }
    },
    {
      "cell_type": "code",
      "source": [
        "train_identity = X_train['user']\n",
        "X_train = X_train.drop(columns = ['user'])\n",
        "test_identity = X_test['user']\n",
        "X_test = X_test.drop(columns = ['user'])"
      ],
      "metadata": {
        "id": "qvo28NY7fuEf"
      },
      "execution_count": null,
      "outputs": []
    },
    {
      "cell_type": "markdown",
      "source": [
        "## Feature Scaling"
      ],
      "metadata": {
        "id": "P_Bg3Z-Qf3u_"
      }
    },
    {
      "cell_type": "code",
      "source": [
        "from sklearn.preprocessing import StandardScaler\n",
        "sc_X = StandardScaler()\n",
        "X_train2 = pd.DataFrame(sc_X.fit_transform(X_train))\n",
        "X_test2 = pd.DataFrame(sc_X.transform(X_test))\n",
        "X_train2.columns = X_train.columns.values\n",
        "X_test2.columns = X_test.columns.values\n",
        "X_train2.index = X_train.index.values\n",
        "X_test2.index = X_test.index.values\n",
        "X_train = X_train2\n",
        "X_test = X_test2"
      ],
      "metadata": {
        "id": "a6zlyyu4fO5E"
      },
      "execution_count": null,
      "outputs": []
    },
    {
      "cell_type": "markdown",
      "source": [
        "# Model Building"
      ],
      "metadata": {
        "id": "vHXeg_Wja_zd"
      }
    },
    {
      "cell_type": "markdown",
      "source": [
        "##  Fitting Model to the Training Set"
      ],
      "metadata": {
        "id": "fpVF0zrjdsq8"
      }
    },
    {
      "cell_type": "code",
      "source": [
        "from sklearn.linear_model import LogisticRegression\n",
        "classifier = LogisticRegression(random_state = 0, penalty = 'l1')\n",
        "classifier.fit(X_train, y_train)"
      ],
      "metadata": {
        "id": "lFPckwttf6tN"
      },
      "execution_count": null,
      "outputs": []
    },
    {
      "cell_type": "markdown",
      "source": [
        "##  Predicting Test Set"
      ],
      "metadata": {
        "id": "NzLj16RLdzbi"
      }
    },
    {
      "cell_type": "code",
      "source": [
        "y_pred = classifier.predict(X_test)"
      ],
      "metadata": {
        "id": "H4XxkwTmfRmb"
      },
      "execution_count": null,
      "outputs": []
    },
    {
      "cell_type": "markdown",
      "source": [
        "# Evaluating Results"
      ],
      "metadata": {
        "id": "l4YLWXrvd8RW"
      }
    },
    {
      "cell_type": "code",
      "source": [
        "from sklearn.metrics import confusion_matrix, accuracy_score, f1_score, precision_score, recall_score\n",
        "cm = confusion_matrix(y_test, y_pred)\n",
        "accuracy_score(y_test, y_pred)\n",
        "precision_score(y_test, y_pred) # tp / (tp + fp)\n",
        "recall_score(y_test, y_pred) # tp / (tp + fn)\n",
        "f1_score(y_test, y_pred)\n",
        "\n",
        "df_cm = pd.DataFrame(cm, index = (0, 1), columns = (0, 1))\n",
        "plt.figure(figsize = (10,7))\n",
        "sn.set(font_scale=1.4)\n",
        "sn.heatmap(df_cm, annot=True, fmt='g')\n",
        "print(\"Test Data Accuracy: %0.4f\" % accuracy_score(y_test, y_pred))"
      ],
      "metadata": {
        "id": "Ks44jTGEd6ui"
      },
      "execution_count": null,
      "outputs": []
    },
    {
      "cell_type": "markdown",
      "source": [
        "## Applying k-Fold Cross Validation"
      ],
      "metadata": {
        "id": "GR3zxVGqeD4T"
      }
    },
    {
      "cell_type": "code",
      "source": [
        "from sklearn.model_selection import cross_val_score\n",
        "accuracies = cross_val_score(estimator = classifier, X = X_train, y = y_train, cv = 10)\n",
        "print(\"SVM Accuracy: %0.3f (+/- %0.3f)\" % (accuracies.mean(), accuracies.std() * 2))\n",
        "\n",
        "# Analyzing Coefficients\n",
        "pd.concat([pd.DataFrame(dataset.drop(columns = 'user').columns, columns = [\"features\"]),\n",
        "           pd.DataFrame(np.transpose(classifier.coef_), columns = [\"coef\"])\n",
        "           ],axis = 1)"
      ],
      "metadata": {
        "id": "DzR3ggKteGoC"
      },
      "execution_count": null,
      "outputs": []
    },
    {
      "cell_type": "markdown",
      "source": [
        "# Model Tuning"
      ],
      "metadata": {
        "id": "u74hsemPeJFB"
      }
    },
    {
      "cell_type": "markdown",
      "source": [
        "## Grid Search"
      ],
      "metadata": {
        "id": "PW4T2Cy5eMKh"
      }
    },
    {
      "cell_type": "code",
      "source": [
        "from sklearn.model_selection import GridSearchCV"
      ],
      "metadata": {
        "id": "TjojsXDBeKqk"
      },
      "execution_count": null,
      "outputs": []
    },
    {
      "cell_type": "markdown",
      "source": [
        "## Select Regularization Method"
      ],
      "metadata": {
        "id": "22iERK7-eSeQ"
      }
    },
    {
      "cell_type": "code",
      "source": [
        "penalty = ['l1', 'l2']"
      ],
      "metadata": {
        "id": "4Kp3NGK1eTwI"
      },
      "execution_count": null,
      "outputs": []
    },
    {
      "cell_type": "markdown",
      "source": [
        "## Create regularization hyperparameter space"
      ],
      "metadata": {
        "id": "njADsch9eVmb"
      }
    },
    {
      "cell_type": "code",
      "source": [
        "C = [0.001, 0.01, 0.1, 1, 10, 100, 1000]"
      ],
      "metadata": {
        "id": "le9J5f0IeX4p"
      },
      "execution_count": null,
      "outputs": []
    },
    {
      "cell_type": "markdown",
      "source": [
        "## Combine Parameters"
      ],
      "metadata": {
        "id": "lbZRpy1heeKC"
      }
    },
    {
      "cell_type": "code",
      "source": [
        "parameters = dict(C=C, penalty=penalty)\n",
        "\n",
        "grid_search = GridSearchCV(estimator = classifier,\n",
        "                           param_grid = parameters,\n",
        "                           scoring = \"accuracy\",\n",
        "                           cv = 10,\n",
        "                           n_jobs = -1)\n",
        "t0 = time.time()\n",
        "grid_search = grid_search.fit(X_train, y_train)\n",
        "t1 = time.time()\n",
        "print(\"Took %0.2f seconds\" % (t1 - t0))\n",
        "\n",
        "rf_best_accuracy = grid_search.best_score_\n",
        "rf_best_parameters = grid_search.best_params_\n",
        "rf_best_accuracy, rf_best_parameters"
      ],
      "metadata": {
        "id": "MNA3srEBebRk"
      },
      "execution_count": null,
      "outputs": []
    },
    {
      "cell_type": "markdown",
      "source": [
        "## Grid Search"
      ],
      "metadata": {
        "id": "sKBDWztreiRk"
      }
    },
    {
      "cell_type": "markdown",
      "source": [
        "## Select Regularization Method"
      ],
      "metadata": {
        "id": "mEIYX3TqenrD"
      }
    },
    {
      "cell_type": "code",
      "source": [
        "penalty = ['l1', 'l2']"
      ],
      "metadata": {
        "id": "-x64kOy6eoIS"
      },
      "execution_count": null,
      "outputs": []
    },
    {
      "cell_type": "markdown",
      "source": [
        "## Create regularization hyperparameter space"
      ],
      "metadata": {
        "id": "bWuGG9zaeoov"
      }
    },
    {
      "cell_type": "code",
      "source": [
        "C = [0.1, 0.5, 0.9, 1, 2, 5]"
      ],
      "metadata": {
        "id": "tw7CmzcfepH-"
      },
      "execution_count": null,
      "outputs": []
    },
    {
      "cell_type": "markdown",
      "source": [
        "## Combine Parameters"
      ],
      "metadata": {
        "id": "9vW3Xd3KepjO"
      }
    },
    {
      "cell_type": "code",
      "source": [
        "parameters = dict(C=C, penalty=penalty)\n",
        "\n",
        "grid_search = GridSearchCV(estimator = classifier,\n",
        "                           param_grid = parameters,\n",
        "                           scoring = \"accuracy\",\n",
        "                           cv = 10,\n",
        "                           n_jobs = -1)\n",
        "t0 = time.time()\n",
        "grid_search = grid_search.fit(X_train, y_train)\n",
        "t1 = time.time()\n",
        "print(\"Took %0.2f seconds\" % (t1 - t0))\n",
        "\n",
        "rf_best_accuracy = grid_search.best_score_\n",
        "rf_best_parameters = grid_search.best_params_\n",
        "rf_best_accuracy, rf_best_parameters\n",
        "grid_search.best_score_\n"
      ],
      "metadata": {
        "id": "RgO53prEep4R"
      },
      "execution_count": null,
      "outputs": []
    },
    {
      "cell_type": "markdown",
      "source": [
        "# End of Model"
      ],
      "metadata": {
        "id": "w_s5diice6bV"
      }
    },
    {
      "cell_type": "markdown",
      "source": [
        "## Formatting Final Results"
      ],
      "metadata": {
        "id": "Qox52DtIe8EU"
      }
    },
    {
      "cell_type": "code",
      "source": [
        "final_results = pd.concat([y_test, test_identity], axis = 1).dropna()\n",
        "final_results['predicted_reach'] = y_pred\n",
        "final_results = final_results[['user', 'enrolled', 'predicted_reach']].reset_index(drop=True)"
      ],
      "metadata": {
        "id": "pHGsxBNkejoE"
      },
      "execution_count": null,
      "outputs": []
    }
  ]
}