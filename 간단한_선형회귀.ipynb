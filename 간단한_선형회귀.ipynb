{
  "nbformat": 4,
  "nbformat_minor": 0,
  "metadata": {
    "colab": {
      "name": "1주차 실습 - 01. 간단한 선형회귀 실습의 사본",
      "provenance": [],
      "collapsed_sections": [],
      "include_colab_link": true
    },
    "kernelspec": {
      "name": "python3",
      "display_name": "Python 3"
    }
  },
  "cells": [
    {
      "cell_type": "markdown",
      "metadata": {
        "id": "view-in-github",
        "colab_type": "text"
      },
      "source": [
        "<a href=\"https://colab.research.google.com/github/be1le/machine-learning/blob/basic/%EA%B0%84%EB%8B%A8%ED%95%9C_%EC%84%A0%ED%98%95%ED%9A%8C%EA%B7%80.ipynb\" target=\"_parent\"><img src=\"https://colab.research.google.com/assets/colab-badge.svg\" alt=\"Open In Colab\"/></a>"
      ]
    },
    {
      "cell_type": "markdown",
      "metadata": {
        "id": "X97SlAsRBrOe"
      },
      "source": [
        "# 초간단 Linear Regression 실습 (TensorFlow)\n",
        "\n",
        "TensorFlow 공식 가이드 문서: https://www.tensorflow.org/guide\n",
        "\n",
        "Keras 공식 가이드 문서: https://www.tensorflow.org/guide/keras/sequential_model\n",
        "\n",
        "현재 TensorFlow 는 아래 방식으로 구현하는 것을 권장하고 있지 않습니다. 강의에서는 선형 회귀의 이해를 돕기위해 아래의 코드를 사용했지만 TensorFlow에서는 keras 사용하도록 권장하고 있고 우리 강의에서도 **최신 트렌드에 맞게 keras를 사용**할 예정입니다!"
      ]
    },
    {
      "cell_type": "code",
      "metadata": {
        "id": "FABQeusq6k05"
      },
      "source": [
        "import tensorflow as tf\n",
        "\n",
        "tf.compat.v1.disable_eager_execution() #v1으로 실행하는 이유는 v2에서는 이렇게 실행할  수가 없기 때문에 \n",
        "\n",
        "x_data = [[1, 1], [2, 2], [3, 3]] #보이는것 처럼 입력값은 2개 \n",
        "y_data = [[10], [20], [30]] # 출력값은 하나이다 \n",
        "\n",
        "X = tf.compat.v1.placeholder(tf.float32, shape=[None, 2]) # placeholder는 입력값과 출력값을 담는 공간\n",
        "Y = tf.compat.v1.placeholder(tf.float32, shape=[None, 1]) # 출력값이 담기는 공간 32 비트소수점을 많이쓴다. shape은 \n",
        "#None 은배치사이즈  2는 x 즉 입력값이 2개라는걸 알려준다. y는 1이다. 출력값은 위처럼 하나이기 때문에 \n",
        "\n",
        "W = tf.Variable(tf.random.normal(shape=(2, 1)), name='W')\n",
        "b = tf.Variable(tf.random.normal(shape=(1,)), name='b')"
      ],
      "execution_count": null,
      "outputs": []
    },
    {
      "cell_type": "code",
      "metadata": {
        "id": "6CjakDv2CB4D"
      },
      "source": [
        "hypothesis = tf.matmul(X, W) + b #w(x)+b 는 가설이다 \n",
        "cost = tf.reduce_mean(tf.square(hypothesis - Y))#mean squared error 를 쓴다.//뺀거에서 제곱한거 \n",
        "optimizer = tf.compat.v1.train.GradientDescentOptimizer(learning_rate=0.01).minimize(cost) #GDO 0.01스텝씩 간다\n",
        "#그리고 최소화 하는 방향으로 가야하는데 무엇을 최소화 하냐? 바로 minimize(cost)를 최소화 하는방향으로 간다. "
      ],
      "execution_count": null,
      "outputs": []
    },
    {
      "cell_type": "code",
      "metadata": {
        "colab": {
          "base_uri": "https://localhost:8080/"
        },
        "id": "blnlq78UFEiW",
        "outputId": "055f837f-bf7e-499d-cbf0-0d90e7eb7ff0"
      },
      "source": [
        "with tf.compat.v1.Session() as sess: #TF에 사용하는 모든 변수들과 모든그래프들을 저장하는 저장소가 Session\n",
        "  sess.run(tf.compat.v1.global_variables_initializer()) #모든 변수들을 초기화하라 session.run \n",
        "\n",
        "  for step in range(50): #50번동안 반복학습을 한다. \n",
        "    c, W_, b_, _ = sess.run([cost, W, b, optimizer], feed_dict={X: x_data, Y: y_data})#feeding한다 딕셔너리를feed해서feeddict\n",
        "    print('Step: %2d\\t loss: %.2f\\t' % (step, c))\n",
        "\n",
        "  print(sess.run(hypothesis, feed_dict={X: [[4, 4]]}))"
      ],
      "execution_count": null,
      "outputs": [
        {
          "output_type": "stream",
          "name": "stdout",
          "text": [
            "Step:  0\t loss: 286.49\t\n",
            "Step:  1\t loss: 182.40\t\n",
            "Step:  2\t loss: 116.45\t\n",
            "Step:  3\t loss: 74.66\t\n",
            "Step:  4\t loss: 48.19\t\n",
            "Step:  5\t loss: 31.41\t\n",
            "Step:  6\t loss: 20.77\t\n",
            "Step:  7\t loss: 14.03\t\n",
            "Step:  8\t loss: 9.75\t\n",
            "Step:  9\t loss: 7.04\t\n",
            "Step: 10\t loss: 5.32\t\n",
            "Step: 11\t loss: 4.22\t\n",
            "Step: 12\t loss: 3.52\t\n",
            "Step: 13\t loss: 3.07\t\n",
            "Step: 14\t loss: 2.79\t\n",
            "Step: 15\t loss: 2.60\t\n",
            "Step: 16\t loss: 2.48\t\n",
            "Step: 17\t loss: 2.40\t\n",
            "Step: 18\t loss: 2.34\t\n",
            "Step: 19\t loss: 2.30\t\n",
            "Step: 20\t loss: 2.27\t\n",
            "Step: 21\t loss: 2.25\t\n",
            "Step: 22\t loss: 2.23\t\n",
            "Step: 23\t loss: 2.21\t\n",
            "Step: 24\t loss: 2.20\t\n",
            "Step: 25\t loss: 2.18\t\n",
            "Step: 26\t loss: 2.17\t\n",
            "Step: 27\t loss: 2.16\t\n",
            "Step: 28\t loss: 2.15\t\n",
            "Step: 29\t loss: 2.14\t\n",
            "Step: 30\t loss: 2.13\t\n",
            "Step: 31\t loss: 2.11\t\n",
            "Step: 32\t loss: 2.10\t\n",
            "Step: 33\t loss: 2.09\t\n",
            "Step: 34\t loss: 2.08\t\n",
            "Step: 35\t loss: 2.07\t\n",
            "Step: 36\t loss: 2.06\t\n",
            "Step: 37\t loss: 2.05\t\n",
            "Step: 38\t loss: 2.04\t\n",
            "Step: 39\t loss: 2.03\t\n",
            "Step: 40\t loss: 2.02\t\n",
            "Step: 41\t loss: 2.01\t\n",
            "Step: 42\t loss: 2.00\t\n",
            "Step: 43\t loss: 1.99\t\n",
            "Step: 44\t loss: 1.97\t\n",
            "Step: 45\t loss: 1.96\t\n",
            "Step: 46\t loss: 1.95\t\n",
            "Step: 47\t loss: 1.94\t\n",
            "Step: 48\t loss: 1.93\t\n",
            "Step: 49\t loss: 1.92\t\n",
            "[[37.29789]]\n"
          ]
        }
      ]
    },
    {
      "cell_type": "markdown",
      "metadata": {
        "id": "knqMJmBJI-zd"
      },
      "source": [
        "# 초초초간단 Linear Regression 실습 (Keras)"
      ]
    },
    {
      "cell_type": "code",
      "metadata": {
        "colab": {
          "base_uri": "https://localhost:8080/"
        },
        "id": "dvD_mxONFiCy",
        "outputId": "3caa05be-4769-46c5-ccfc-464f130bd2d0"
      },
      "source": [
        "import numpy as np #numpy를 np라고 정의합니다 \n",
        "from tensorflow.keras.models import Sequential #시퀀셜은 모델을 정의할때! \n",
        "from tensorflow.keras.layers import Dense # 덴스는 위에서 썻던 가설을 구현할때 \n",
        "from tensorflow.keras.optimizers import Adam, SGD\n",
        "\n",
        "x_data = np.array([[1], [2], [3]]) #np.array로 만든다 \n",
        "y_data = np.array([[10], [20], [30]])\n",
        "\n",
        "model = Sequential([ #순차적인 // 시퀀셜 \n",
        "  Dense(1) #출력이하나다! \n",
        "])\n",
        "\n",
        "model.compile(loss='mean_squared_error', optimizer=SGD(lr=0.1)) # 구성을해줄껀데 MSE//lr은 0,1이다~\n",
        "\n",
        "model.fit(x_data, y_data, epochs=100) # epochs 복수형으로 쓰기! 피팅과정이다! 몇번반복할것인지! "
      ],
      "execution_count": null,
      "outputs": [
        {
          "output_type": "stream",
          "name": "stdout",
          "text": [
            "Train on 3 samples\n",
            "Epoch 1/100\n",
            "3/3 [==============================] - 0s 21ms/sample - loss: 389.2561\n",
            "Epoch 2/100\n",
            "3/3 [==============================] - 0s 2ms/sample - loss: 6.1787\n",
            "Epoch 3/100\n",
            "3/3 [==============================] - 0s 1ms/sample - loss: 1.5301\n",
            "Epoch 4/100\n",
            "3/3 [==============================] - 0s 2ms/sample - loss: 1.4054\n",
            "Epoch 5/100\n",
            "3/3 [==============================] - 0s 2ms/sample - loss: 1.3380\n",
            "Epoch 6/100\n",
            "3/3 [==============================] - 0s 2ms/sample - loss: 1.2745\n",
            "Epoch 7/100\n",
            "3/3 [==============================] - ETA: 0s - loss: 1.2139"
          ]
        },
        {
          "output_type": "stream",
          "name": "stderr",
          "text": [
            "/usr/local/lib/python3.7/dist-packages/keras/optimizer_v2/gradient_descent.py:102: UserWarning: The `lr` argument is deprecated, use `learning_rate` instead.\n",
            "  super(SGD, self).__init__(name, **kwargs)\n"
          ]
        },
        {
          "output_type": "stream",
          "name": "stdout",
          "text": [
            "3/3 [==============================] - 0s 1ms/sample - loss: 1.2139\n",
            "Epoch 8/100\n",
            "3/3 [==============================] - 0s 2ms/sample - loss: 1.1563\n",
            "Epoch 9/100\n",
            "3/3 [==============================] - 0s 1ms/sample - loss: 1.1013\n",
            "Epoch 10/100\n",
            "3/3 [==============================] - 0s 1ms/sample - loss: 1.0490\n",
            "Epoch 11/100\n",
            "3/3 [==============================] - 0s 1ms/sample - loss: 0.9992\n",
            "Epoch 12/100\n",
            "3/3 [==============================] - 0s 2ms/sample - loss: 0.9517\n",
            "Epoch 13/100\n",
            "3/3 [==============================] - 0s 1ms/sample - loss: 0.9065\n",
            "Epoch 14/100\n",
            "3/3 [==============================] - 0s 1ms/sample - loss: 0.8635\n",
            "Epoch 15/100\n",
            "3/3 [==============================] - 0s 1ms/sample - loss: 0.8224\n",
            "Epoch 16/100\n",
            "3/3 [==============================] - 0s 1ms/sample - loss: 0.7834\n",
            "Epoch 17/100\n",
            "3/3 [==============================] - 0s 1ms/sample - loss: 0.7462\n",
            "Epoch 18/100\n",
            "3/3 [==============================] - 0s 1ms/sample - loss: 0.7107\n",
            "Epoch 19/100\n",
            "3/3 [==============================] - 0s 1ms/sample - loss: 0.6770\n",
            "Epoch 20/100\n",
            "3/3 [==============================] - 0s 1ms/sample - loss: 0.6448\n",
            "Epoch 21/100\n",
            "3/3 [==============================] - 0s 1ms/sample - loss: 0.6142\n",
            "Epoch 22/100\n",
            "3/3 [==============================] - 0s 1ms/sample - loss: 0.5850\n",
            "Epoch 23/100\n",
            "3/3 [==============================] - 0s 906us/sample - loss: 0.5572\n",
            "Epoch 24/100\n",
            "3/3 [==============================] - 0s 1ms/sample - loss: 0.5308\n",
            "Epoch 25/100\n",
            "3/3 [==============================] - 0s 1ms/sample - loss: 0.5055\n",
            "Epoch 26/100\n",
            "3/3 [==============================] - 0s 1ms/sample - loss: 0.4815\n",
            "Epoch 27/100\n",
            "3/3 [==============================] - 0s 1ms/sample - loss: 0.4587\n",
            "Epoch 28/100\n",
            "3/3 [==============================] - 0s 1ms/sample - loss: 0.4369\n",
            "Epoch 29/100\n",
            "3/3 [==============================] - 0s 1ms/sample - loss: 0.4161\n",
            "Epoch 30/100\n",
            "3/3 [==============================] - 0s 1ms/sample - loss: 0.3964\n",
            "Epoch 31/100\n",
            "3/3 [==============================] - 0s 1ms/sample - loss: 0.3775\n",
            "Epoch 32/100\n",
            "3/3 [==============================] - 0s 1ms/sample - loss: 0.3596\n",
            "Epoch 33/100\n",
            "3/3 [==============================] - 0s 1ms/sample - loss: 0.3425\n",
            "Epoch 34/100\n",
            "3/3 [==============================] - 0s 1ms/sample - loss: 0.3262\n",
            "Epoch 35/100\n",
            "3/3 [==============================] - 0s 1ms/sample - loss: 0.3107\n",
            "Epoch 36/100\n",
            "3/3 [==============================] - 0s 1ms/sample - loss: 0.2960\n",
            "Epoch 37/100\n",
            "3/3 [==============================] - 0s 1ms/sample - loss: 0.2819\n",
            "Epoch 38/100\n",
            "3/3 [==============================] - 0s 2ms/sample - loss: 0.2685\n",
            "Epoch 39/100\n",
            "3/3 [==============================] - 0s 1ms/sample - loss: 0.2558\n",
            "Epoch 40/100\n",
            "3/3 [==============================] - 0s 1ms/sample - loss: 0.2436\n",
            "Epoch 41/100\n",
            "3/3 [==============================] - 0s 3ms/sample - loss: 0.2321\n",
            "Epoch 42/100\n",
            "3/3 [==============================] - 0s 1ms/sample - loss: 0.2210\n",
            "Epoch 43/100\n",
            "3/3 [==============================] - 0s 1ms/sample - loss: 0.2105\n",
            "Epoch 44/100\n",
            "3/3 [==============================] - 0s 1ms/sample - loss: 0.2005\n",
            "Epoch 45/100\n",
            "3/3 [==============================] - 0s 1ms/sample - loss: 0.1910\n",
            "Epoch 46/100\n",
            "3/3 [==============================] - 0s 2ms/sample - loss: 0.1819\n",
            "Epoch 47/100\n",
            "3/3 [==============================] - 0s 2ms/sample - loss: 0.1733\n",
            "Epoch 48/100\n",
            "3/3 [==============================] - 0s 2ms/sample - loss: 0.1651\n",
            "Epoch 49/100\n",
            "3/3 [==============================] - 0s 2ms/sample - loss: 0.1572\n",
            "Epoch 50/100\n",
            "3/3 [==============================] - 0s 1ms/sample - loss: 0.1498\n",
            "Epoch 51/100\n",
            "3/3 [==============================] - 0s 1ms/sample - loss: 0.1426\n",
            "Epoch 52/100\n",
            "3/3 [==============================] - 0s 1ms/sample - loss: 0.1359\n",
            "Epoch 53/100\n",
            "3/3 [==============================] - 0s 1ms/sample - loss: 0.1294\n",
            "Epoch 54/100\n",
            "3/3 [==============================] - 0s 1ms/sample - loss: 0.1233\n",
            "Epoch 55/100\n",
            "3/3 [==============================] - 0s 1ms/sample - loss: 0.1174\n",
            "Epoch 56/100\n",
            "3/3 [==============================] - 0s 1ms/sample - loss: 0.1118\n",
            "Epoch 57/100\n",
            "3/3 [==============================] - 0s 1ms/sample - loss: 0.1065\n",
            "Epoch 58/100\n",
            "3/3 [==============================] - 0s 1ms/sample - loss: 0.1015\n",
            "Epoch 59/100\n",
            "3/3 [==============================] - 0s 1ms/sample - loss: 0.0966\n",
            "Epoch 60/100\n",
            "3/3 [==============================] - 0s 1ms/sample - loss: 0.0920\n",
            "Epoch 61/100\n",
            "3/3 [==============================] - 0s 1ms/sample - loss: 0.0877\n",
            "Epoch 62/100\n",
            "3/3 [==============================] - 0s 1ms/sample - loss: 0.0835\n",
            "Epoch 63/100\n",
            "3/3 [==============================] - 0s 2ms/sample - loss: 0.0795\n",
            "Epoch 64/100\n",
            "3/3 [==============================] - 0s 1ms/sample - loss: 0.0758\n",
            "Epoch 65/100\n",
            "3/3 [==============================] - 0s 1ms/sample - loss: 0.0722\n",
            "Epoch 66/100\n",
            "3/3 [==============================] - 0s 1ms/sample - loss: 0.0687\n",
            "Epoch 67/100\n",
            "3/3 [==============================] - 0s 1ms/sample - loss: 0.0655\n",
            "Epoch 68/100\n",
            "3/3 [==============================] - 0s 1ms/sample - loss: 0.0624\n",
            "Epoch 69/100\n",
            "3/3 [==============================] - 0s 1ms/sample - loss: 0.0594\n",
            "Epoch 70/100\n",
            "3/3 [==============================] - 0s 1ms/sample - loss: 0.0566\n",
            "Epoch 71/100\n",
            "3/3 [==============================] - 0s 1ms/sample - loss: 0.0539\n",
            "Epoch 72/100\n",
            "3/3 [==============================] - 0s 1ms/sample - loss: 0.0513\n",
            "Epoch 73/100\n",
            "3/3 [==============================] - 0s 1ms/sample - loss: 0.0489\n",
            "Epoch 74/100\n",
            "3/3 [==============================] - 0s 1ms/sample - loss: 0.0466\n",
            "Epoch 75/100\n",
            "3/3 [==============================] - 0s 1ms/sample - loss: 0.0444\n",
            "Epoch 76/100\n",
            "3/3 [==============================] - 0s 1ms/sample - loss: 0.0423\n",
            "Epoch 77/100\n",
            "3/3 [==============================] - 0s 1ms/sample - loss: 0.0402\n",
            "Epoch 78/100\n",
            "3/3 [==============================] - 0s 1ms/sample - loss: 0.0383\n",
            "Epoch 79/100\n",
            "3/3 [==============================] - 0s 988us/sample - loss: 0.0365\n",
            "Epoch 80/100\n",
            "3/3 [==============================] - 0s 982us/sample - loss: 0.0348\n",
            "Epoch 81/100\n",
            "3/3 [==============================] - 0s 1ms/sample - loss: 0.0331\n",
            "Epoch 82/100\n",
            "3/3 [==============================] - 0s 1ms/sample - loss: 0.0316\n",
            "Epoch 83/100\n",
            "3/3 [==============================] - 0s 1ms/sample - loss: 0.0301\n",
            "Epoch 84/100\n",
            "3/3 [==============================] - 0s 1ms/sample - loss: 0.0286\n",
            "Epoch 85/100\n",
            "3/3 [==============================] - 0s 1ms/sample - loss: 0.0273\n",
            "Epoch 86/100\n",
            "3/3 [==============================] - 0s 1ms/sample - loss: 0.0260\n",
            "Epoch 87/100\n",
            "3/3 [==============================] - 0s 1ms/sample - loss: 0.0247\n",
            "Epoch 88/100\n",
            "3/3 [==============================] - 0s 1ms/sample - loss: 0.0236\n",
            "Epoch 89/100\n",
            "3/3 [==============================] - 0s 1ms/sample - loss: 0.0224\n",
            "Epoch 90/100\n",
            "3/3 [==============================] - 0s 1ms/sample - loss: 0.0214\n",
            "Epoch 91/100\n",
            "3/3 [==============================] - 0s 956us/sample - loss: 0.0204\n",
            "Epoch 92/100\n",
            "3/3 [==============================] - 0s 909us/sample - loss: 0.0194\n",
            "Epoch 93/100\n",
            "3/3 [==============================] - 0s 1ms/sample - loss: 0.0185\n",
            "Epoch 94/100\n",
            "3/3 [==============================] - 0s 3ms/sample - loss: 0.0176\n",
            "Epoch 95/100\n",
            "3/3 [==============================] - 0s 1ms/sample - loss: 0.0168\n",
            "Epoch 96/100\n",
            "3/3 [==============================] - 0s 2ms/sample - loss: 0.0160\n",
            "Epoch 97/100\n",
            "3/3 [==============================] - 0s 1ms/sample - loss: 0.0152\n",
            "Epoch 98/100\n",
            "3/3 [==============================] - 0s 1ms/sample - loss: 0.0145\n",
            "Epoch 99/100\n",
            "3/3 [==============================] - 0s 2ms/sample - loss: 0.0138\n",
            "Epoch 100/100\n",
            "3/3 [==============================] - 0s 2ms/sample - loss: 0.0131\n"
          ]
        },
        {
          "output_type": "execute_result",
          "data": {
            "text/plain": [
              "<keras.callbacks.History at 0x7f5741e4d790>"
            ]
          },
          "metadata": {},
          "execution_count": 13
        }
      ]
    },
    {
      "cell_type": "markdown",
      "metadata": {
        "id": "tfdDs3RITmpd"
      },
      "source": [
        "## 테스트 데이터 예측하기"
      ]
    },
    {
      "cell_type": "code",
      "metadata": {
        "colab": {
          "base_uri": "https://localhost:8080/"
        },
        "id": "Ci3Hu3-eJse-",
        "outputId": "d9a2152b-bc50-4ad2-e1a9-623fdeed4b2b"
      },
      "source": [
        "y_pred = model.predict([[5]]) #모델에 predict//예측하다라는 메소드는 사용하게되고 \n",
        "\n",
        "print(y_pred)"
      ],
      "execution_count": null,
      "outputs": [
        {
          "output_type": "stream",
          "name": "stdout",
          "text": [
            "[[49.645695]]\n"
          ]
        }
      ]
    },
    {
      "cell_type": "code",
      "metadata": {
        "id": "g3hH1c-kmhSz"
      },
      "source": [
        ""
      ],
      "execution_count": null,
      "outputs": []
    }
  ]
}