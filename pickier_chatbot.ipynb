{
  "nbformat": 4,
  "nbformat_minor": 0,
  "metadata": {
    "colab": {
      "name": "pickier-chatbot",
      "provenance": [],
      "collapsed_sections": [],
      "authorship_tag": "ABX9TyODjCMoafuBHaCf2N859DW2",
      "include_colab_link": true
    },
    "kernelspec": {
      "name": "python3",
      "display_name": "Python 3"
    },
    "language_info": {
      "name": "python"
    }
  },
  "cells": [
    {
      "cell_type": "markdown",
      "metadata": {
        "id": "view-in-github",
        "colab_type": "text"
      },
      "source": [
        "<a href=\"https://colab.research.google.com/github/be1le/machine-learning/blob/main/pickier_chatbot.ipynb\" target=\"_parent\"><img src=\"https://colab.research.google.com/assets/colab-badge.svg\" alt=\"Open In Colab\"/></a>"
      ]
    },
    {
      "cell_type": "code",
      "execution_count": 8,
      "metadata": {
        "colab": {
          "base_uri": "https://localhost:8080/"
        },
        "id": "DrJ51mmCZA5s",
        "outputId": "bccc387c-10b0-4405-f105-fa186731f4a0"
      },
      "outputs": [
        {
          "output_type": "stream",
          "name": "stdout",
          "text": [
            "        request rule                                           response\n",
            "0        책 추천해줘   추천  우리 꼬마 독서가는 어떤 장르를 좋아할까...?  [추리,스릴러,공포,과학,판타지,...\n",
            "1            추리   추리            추리라 ... 마침 너가 읽었으면 하던 책이 있구나! 기달려 보거라! \n",
            "2           스릴러  스릴러            스릴러라... 마침 너가 읽었으면 하던 책이 있구나! 기달려 보거라! \n",
            "3            공포   공포             공포라... 마침 너가 읽었으면 하던 책이 있구나! 기달려 보거라! \n",
            "4            과학   과학            과학이라... 마침 너가 읽었으면 하던 책이 있구나! 기달려 보거라! \n",
            "5           판타지  판타지            판타지라... 마침 너가 읽었으면 하던 책이 있구나! 기달려 보거라! \n",
            "6            무협   무협            무협이라... 마침 너가 읽었으면 하던 책이 있구나! 기달려 보거라! \n",
            "7            게임   게임            게임이라... 마침 너가 읽었으면 하던 책이 있구나! 기달려 보거라! \n",
            "8           로맨스  로맨스            로맨스라... 마침 너가 읽었으면 하던 책이 있구나! 기달려 보거라! \n",
            "9   할아버지 몇살이에요?   연세                  할아버지는 삼겹살 이란다 하하..!  재미가 없나보구나...\n",
            "10          힘들다    힘          그렇게 힘들어하는 지금의 너도 충분히 잘 해내고있는것 같아 보이는 구나! \n"
          ]
        }
      ],
      "source": [
        "import pandas as pd \n",
        "chatbot_data = pd.read_excel(\"pickier.xlsx\") \n",
        "print(chatbot_data)\n",
        "\n"
      ]
    },
    {
      "cell_type": "code",
      "source": [
        "# rule의 데이터를 split하여 list형태로 변환 후, index값과 함께 dictionary 형태로 저장 \n",
        "chat_dic = {} \n",
        "row = 0 \n",
        "for rule in chatbot_data['rule']: \n",
        "  chat_dic[row] = rule.split('|') \n",
        "  row += 1 \n",
        "print(chat_dic)\n",
        "\n"
      ],
      "metadata": {
        "colab": {
          "base_uri": "https://localhost:8080/"
        },
        "id": "gZHgRrNuuHON",
        "outputId": "ae5f95a0-63b7-41b6-ab63-0121dd4832aa"
      },
      "execution_count": 9,
      "outputs": [
        {
          "output_type": "stream",
          "name": "stdout",
          "text": [
            "{0: ['추천'], 1: ['추리'], 2: ['스릴러'], 3: ['공포'], 4: ['과학'], 5: ['판타지'], 6: ['무협'], 7: ['게임'], 8: ['로맨스'], 9: ['연세'], 10: ['힘']}\n"
          ]
        }
      ]
    },
    {
      "cell_type": "code",
      "source": [
        "def chat(request):\n",
        "  for k, v in chat_dic.items():\n",
        "     chat_flag = False\n",
        "     for word in v:\n",
        "        if word in request:\n",
        "          chat_flag = True\n",
        "        else:\n",
        "          chat_flag = False\n",
        "          break\n",
        "     if chat_flag:\n",
        "       return chatbot_data['response'][k]\n",
        "  return '무슨 말인지 잘 모르겠구나..!'\n",
        "  \n",
        "\n",
        "\n",
        "          \n"
      ],
      "metadata": {
        "id": "sLG66wkkufLa"
      },
      "execution_count": 10,
      "outputs": []
    },
    {
      "cell_type": "code",
      "source": [
        "while True:\n",
        "  req = input('채팅을 입력하세요!')\n",
        "  if req == 'exit':\n",
        "    break\n",
        "  else:\n",
        "    print('피카에 할아버지 : ', chat(req))\n",
        "\n"
      ],
      "metadata": {
        "colab": {
          "base_uri": "https://localhost:8080/"
        },
        "id": "M0lpKrh0vh67",
        "outputId": "46e68323-d50d-481a-f889-7f07d3af69e8"
      },
      "execution_count": null,
      "outputs": [
        {
          "name": "stdout",
          "output_type": "stream",
          "text": [
            "채팅을 입력하세요!책 추천해주세요\n",
            "피카에 할아버지 :  우리 꼬마 독서가는 어떤 장르를 좋아할까...?  [추리,스릴러,공포,과학,판타지,무협,게임,로맨스] 중에 골라보거라!\n",
            "채팅을 입력하세요!ㄷㅊ\n",
            "피카에 할아버지 :  무슨 말인지 잘 모르겠구나..!\n",
            "채팅을 입력하세요!exit\n"
          ]
        }
      ]
    },
    {
      "cell_type": "code",
      "source": [
        ""
      ],
      "metadata": {
        "id": "fFjF3K-Jv7qs"
      },
      "execution_count": 4,
      "outputs": []
    }
  ]
}