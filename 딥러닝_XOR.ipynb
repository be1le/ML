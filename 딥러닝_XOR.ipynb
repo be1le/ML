{
  "nbformat": 4,
  "nbformat_minor": 0,
  "metadata": {
    "colab": {
      "name": " - 01. 딥러닝 XOR의 사본",
      "provenance": [],
      "collapsed_sections": [],
      "include_colab_link": true
    },
    "kernelspec": {
      "name": "python3",
      "display_name": "Python 3"
    }
  },
  "cells": [
    {
      "cell_type": "markdown",
      "metadata": {
        "id": "view-in-github",
        "colab_type": "text"
      },
      "source": [
        "<a href=\"https://colab.research.google.com/github/be1le/machine-learning/blob/basic/%EB%94%A5%EB%9F%AC%EB%8B%9D_XOR.ipynb\" target=\"_parent\"><img src=\"https://colab.research.google.com/assets/colab-badge.svg\" alt=\"Open In Colab\"/></a>"
      ]
    },
    {
      "cell_type": "code",
      "metadata": {
        "id": "cGl7tV6zYlP2"
      },
      "source": [
        "import numpy as np\n",
        "from tensorflow.keras.models import Sequential\n",
        "from tensorflow.keras.layers import Dense\n",
        "from tensorflow.keras.optimizers import Adam, SGD"
      ],
      "execution_count": null,
      "outputs": []
    },
    {
      "cell_type": "markdown",
      "metadata": {
        "id": "IOZ3kGcNY8hP"
      },
      "source": [
        "# XOR 데이터셋\n",
        "\n",
        "![](https://i.imgur.com/llFchxI.png)"
      ]
    },
    {
      "cell_type": "code",
      "metadata": {
        "id": "WiXA_GyPY8Ea"
      },
      "source": [
        "x_data = np.array([[0, 0], [0, 1], [1, 0], [1, 1]], dtype=np.float32)\n",
        "y_data = np.array([[0], [1], [1], [0]], dtype=np.float32)"
      ],
      "execution_count": null,
      "outputs": []
    },
    {
      "cell_type": "markdown",
      "metadata": {
        "id": "lLPGg54nYs86"
      },
      "source": [
        "# XOR 이진 논리 회귀"
      ]
    },
    {
      "cell_type": "code",
      "metadata": {
        "colab": {
          "base_uri": "https://localhost:8080/"
        },
        "id": "oqpq8Z9UW5z7",
        "outputId": "b00dfdef-9523-4a6d-8a2d-bbf7f1a81ccd"
      },
      "source": [
        "model = Sequential([\n",
        "  Dense(1, activation='sigmoid')\n",
        "])\n",
        "\n",
        "model.compile(loss='binary_crossentropy', optimizer=SGD(lr=0.1))\n",
        "\n",
        "model.fit(x_data, y_data, epochs=1000, verbose=0) # Verbose = 0 출력하지말아라 verbose=1 출력해라 "
      ],
      "execution_count": null,
      "outputs": [
        {
          "output_type": "stream",
          "name": "stderr",
          "text": [
            "/usr/local/lib/python3.7/dist-packages/keras/optimizer_v2/gradient_descent.py:102: UserWarning: The `lr` argument is deprecated, use `learning_rate` instead.\n",
            "  super(SGD, self).__init__(name, **kwargs)\n"
          ]
        },
        {
          "output_type": "execute_result",
          "data": {
            "text/plain": [
              "<keras.callbacks.History at 0x7fad41f346d0>"
            ]
          },
          "metadata": {},
          "execution_count": 3
        }
      ]
    },
    {
      "cell_type": "code",
      "metadata": {
        "colab": {
          "base_uri": "https://localhost:8080/"
        },
        "id": "atwdM_sYXhJS",
        "outputId": "5b85888f-d2dd-43dd-fc9c-e74c6d5f09be"
      },
      "source": [
        "y_pred = model.predict(x_data)\n",
        "\n",
        "print(y_pred)"
      ],
      "execution_count": null,
      "outputs": [
        {
          "output_type": "stream",
          "name": "stdout",
          "text": [
            "[[0.49640813]\n",
            " [0.4992991 ]\n",
            " [0.49957353]\n",
            " [0.50246453]]\n"
          ]
        }
      ]
    },
    {
      "cell_type": "markdown",
      "metadata": {
        "id": "cI6To7CYYwcV"
      },
      "source": [
        "# XOR 딥러닝(MLP)"
      ]
    },
    {
      "cell_type": "code",
      "metadata": {
        "colab": {
          "base_uri": "https://localhost:8080/"
        },
        "id": "m7K9HNdkXuQS",
        "outputId": "4aeb99c6-d79d-441d-d05d-de3f0cbab821"
      },
      "source": [
        "model = Sequential([ # 순차적으로 레이어를 쌓는 건데 실무에서는 사실 이용하기가 어렵다. \n",
        "  Dense(8, activation='relu'),#히든레이어  활성화함수는 relu\n",
        "  Dense(1, activation='sigmoid'), #출력이하나짜리라서 dense =1 \n",
        "])\n",
        "\n",
        "model.compile(loss='binary_crossentropy', optimizer=Adam(lr=0.1))\n",
        "\n",
        "model.fit(x_data, y_data, epochs=1000, verbose=0)"
      ],
      "execution_count": null,
      "outputs": [
        {
          "output_type": "stream",
          "name": "stderr",
          "text": [
            "/usr/local/lib/python3.7/dist-packages/keras/optimizer_v2/adam.py:105: UserWarning: The `lr` argument is deprecated, use `learning_rate` instead.\n",
            "  super(Adam, self).__init__(name, **kwargs)\n"
          ]
        },
        {
          "output_type": "execute_result",
          "data": {
            "text/plain": [
              "<keras.callbacks.History at 0x7fad3cbb3810>"
            ]
          },
          "metadata": {},
          "execution_count": 12
        }
      ]
    },
    {
      "cell_type": "code",
      "metadata": {
        "colab": {
          "base_uri": "https://localhost:8080/"
        },
        "id": "1exYIaf2X3Vm",
        "outputId": "fc95e0d4-9a66-4cd5-9edf-f81ac06b103c"
      },
      "source": [
        "y_pred = model.predict(x_data)\n",
        "\n",
        "print(y_pred)"
      ],
      "execution_count": null,
      "outputs": [
        {
          "output_type": "stream",
          "name": "stdout",
          "text": [
            "WARNING:tensorflow:5 out of the last 5 calls to <function Model.make_predict_function.<locals>.predict_function at 0x7fad3cc03d40> triggered tf.function retracing. Tracing is expensive and the excessive number of tracings could be due to (1) creating @tf.function repeatedly in a loop, (2) passing tensors with different shapes, (3) passing Python objects instead of tensors. For (1), please define your @tf.function outside of the loop. For (2), @tf.function has experimental_relax_shapes=True option that relaxes argument shapes that can avoid unnecessary retracing. For (3), please refer to https://www.tensorflow.org/guide/function#controlling_retracing and https://www.tensorflow.org/api_docs/python/tf/function for  more details.\n",
            "[[4.3645501e-04]\n",
            " [9.9994743e-01]\n",
            " [9.9994409e-01]\n",
            " [4.4764747e-05]]\n"
          ]
        }
      ]
    },
    {
      "cell_type": "markdown",
      "metadata": {
        "id": "nDHt2P5DaIMF"
      },
      "source": [
        "# Keras Functional API\n",
        "\n",
        "우리는 지금까지 Keras의 Sequential 클래스를 사용하여 Sequential API를 사용했습니다. Sequential API는 순차적인 모델 설계에는 편리한 API 이지만, 복잡한 네트워크를 설계하기에는 한계가 있기 때문에 실무에서는 Functional API를 주로 사용합니다.\n",
        "\n",
        "위에서 했던 XOR 딥러닝 문제를 Functional API로 다시 작성해보겠습니다!"
      ]
    },
    {
      "cell_type": "code",
      "metadata": {
        "id": "esLNf0O9aoG0"
      },
      "source": [
        "import numpy as np\n",
        "from tensorflow.keras.models import Sequential, Model # 시퀀셜대신에 모델을 쓸거고\n",
        "from tensorflow.keras.layers import Dense, Input # 댄스레이어 뿐만아니라 인풋레이어 까지 불러와줘야한다. \n",
        "from tensorflow.keras.optimizers import Adam, SGD"
      ],
      "execution_count": null,
      "outputs": []
    },
    {
      "cell_type": "markdown",
      "metadata": {
        "id": "B5vfGC5EbYUF"
      },
      "source": [
        "`model.summary()` 를 사용하여 모델의 구조를 확인할 수 있습니다.\n",
        "\n",
        "Sequential API를 사용하면 구조를 확인하기 힘들지만 Functional API를 사용하면 `model.summary()`를 사용하여 구조를 확인하기 쉽다는 장점도 있습니다."
      ]
    },
    {
      "cell_type": "code",
      "metadata": {
        "colab": {
          "base_uri": "https://localhost:8080/"
        },
        "id": "HunEvs9faHfD",
        "outputId": "4848872d-070d-447a-b874-55746bcf2013"
      },
      "source": [
        "input = Input(shape=(2,)) #인풋레이어의 크기를 지정해준다. 인풋노드가 2개가 된다! \n",
        "hidden = Dense(8, activation='relu')(input) #시퀀셜레이어와 다른점. 히든을 인풋에 넣어줘야하는거! 댄스가다시 히든에들어간다. \n",
        "output = Dense(1, activation='sigmoid')(hidden) #히든레이어를 다음거에 다시넣어준다. \n",
        "\n",
        "model = Model(inputs=input, outputs=output) #시퀀셜대신 모델을 사용한다. inputs,outputs복수형으로 적기 \n",
        "\n",
        "model.compile(loss='binary_crossentropy', optimizer=Adam(lr=0.1))\n",
        "\n",
        "model.summary() # 모델의 개요를 볼수있다. "
      ],
      "execution_count": null,
      "outputs": [
        {
          "output_type": "stream",
          "name": "stdout",
          "text": [
            "Model: \"model_1\"\n",
            "_________________________________________________________________\n",
            " Layer (type)                Output Shape              Param #   \n",
            "=================================================================\n",
            " input_2 (InputLayer)        [(None, 2)]               0         \n",
            "                                                                 \n",
            " dense_5 (Dense)             (None, 8)                 24        \n",
            "                                                                 \n",
            " dense_6 (Dense)             (None, 1)                 9         \n",
            "                                                                 \n",
            "=================================================================\n",
            "Total params: 33\n",
            "Trainable params: 33\n",
            "Non-trainable params: 0\n",
            "_________________________________________________________________\n"
          ]
        },
        {
          "output_type": "stream",
          "name": "stderr",
          "text": [
            "/usr/local/lib/python3.7/dist-packages/keras/optimizer_v2/adam.py:105: UserWarning: The `lr` argument is deprecated, use `learning_rate` instead.\n",
            "  super(Adam, self).__init__(name, **kwargs)\n"
          ]
        }
      ]
    },
    {
      "cell_type": "code",
      "metadata": {
        "colab": {
          "base_uri": "https://localhost:8080/"
        },
        "id": "p-a-DOJDX6tH",
        "outputId": "be6ecb72-b7f0-4b2d-a179-cdb0b08c2e44"
      },
      "source": [
        "model.fit(x_data, y_data, epochs=1000, verbose=0)\n",
        "\n",
        "y_pred = model.predict(x_data)\n",
        "\n",
        "print(y_pred)"
      ],
      "execution_count": null,
      "outputs": [
        {
          "output_type": "stream",
          "name": "stdout",
          "text": [
            "[[6.465614e-04]\n",
            " [9.999424e-01]\n",
            " [9.999398e-01]\n",
            " [4.562672e-05]]\n"
          ]
        }
      ]
    },
    {
      "cell_type": "code",
      "metadata": {
        "id": "MCKDXGjJbD1X"
      },
      "source": [
        ""
      ],
      "execution_count": null,
      "outputs": []
    }
  ]
}
