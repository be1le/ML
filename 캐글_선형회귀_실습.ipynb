{
  "nbformat": 4,
  "nbformat_minor": 0,
  "metadata": {
    "colab": {
      "name": "1주차 실습 - 02. 캐글 선형회귀 실습의 사본",
      "provenance": [],
      "collapsed_sections": [],
      "include_colab_link": true
    },
    "kernelspec": {
      "name": "python3",
      "display_name": "Python 3"
    }
  },
  "cells": [
    {
      "cell_type": "markdown",
      "metadata": {
        "id": "view-in-github",
        "colab_type": "text"
      },
      "source": [
        "<a href=\"https://colab.research.google.com/github/be1le/machine-learning/blob/basic/%EC%BA%90%EA%B8%80_%EC%84%A0%ED%98%95%ED%9A%8C%EA%B7%80_%EC%8B%A4%EC%8A%B5.ipynb\" target=\"_parent\"><img src=\"https://colab.research.google.com/assets/colab-badge.svg\" alt=\"Open In Colab\"/></a>"
      ]
    },
    {
      "cell_type": "markdown",
      "metadata": {
        "id": "fJgk2C1x9D2a"
      },
      "source": [
        "# Kaggle 캐글\n",
        "\n",
        "https://kaggle.com\n",
        "\n",
        "캐글은 머신러닝 엔지니어가 레벨업 할 수 있는 던전이자, 사냥터입니다. 수많은 공개된 데이터셋과 각 데이터셋 별로 사람들이 분석한 결과들을 모아놓은 플랫폼이죠.\n",
        "\n",
        "기업 및 단체에서 Prize를 걸고 데이터와 해결 과제를 등록하면, 데이터 사이언티스트들이 이를 해결하기 위해 모델을 개발하고 경쟁하기도 하는 플랫폼입니다."
      ]
    },
    {
      "cell_type": "markdown",
      "metadata": {
        "id": "ORmI7HI59t1q"
      },
      "source": [
        "## Colab에서 Kaggle 데이터셋 다운로드 방법\n",
        "\n",
        "1. [Kaggle](https://www.kaggle.com) 회원가입\n",
        "2. Account(계정) 페이지 진입 (https://www.kaggle.com/[사옹자이름]/account)\n",
        "3. API - Create New API Token 클릭하고 kaggle.json 다운로드\n",
        "4. 브라우저에서 json 파일을 열어 username 및 key 복사\n",
        "5. 아래 코드에 자신의 username 및 key를 붙여넣어 환경변수 설정 실행"
      ]
    },
    {
      "cell_type": "code",
      "metadata": {
        "id": "dR2b4ocY-Kul"
      },
      "source": [
        "import os\n",
        "os.environ['KAGGLE_USERNAME'] =  # 'username'\n",
        "os.environ['KAGGLE_KEY'] =  # 'key'"
      ],
      "execution_count": null,
      "outputs": []
    },
    {
      "cell_type": "markdown",
      "metadata": {
        "id": "JKquhsXV_X72"
      },
      "source": [
        "## 광고 데이터셋 다운로드\n",
        "\n",
        "1. Kaggle에서 원하는 데이터셋을 검색 (예: https://www.kaggle.com/ashydv/advertising-dataset)\n",
        "2. [Copy API command] 버튼 클릭 (New Notebook 옆에 ... 버튼 클릭)\n",
        "3. 코드 셀에 붙여넣고 실행! (맨 앞에 \"!\" 꼭 붙이는거 잊지 마세요!)\n",
        "\n"
      ]
    },
    {
      "cell_type": "code",
      "metadata": {
        "colab": {
          "base_uri": "https://localhost:8080/"
        },
        "id": "5pr_OtdH4XHS",
        "outputId": "10a17b4a-e614-445e-cc43-3f8cfbe3a2c5"
      },
      "source": [
        "!kaggle datasets download -d ashydv/advertising-dataset"
      ],
      "execution_count": null,
      "outputs": [
        {
          "output_type": "stream",
          "name": "stdout",
          "text": [
            "Downloading advertising-dataset.zip to /content\n",
            "\r  0% 0.00/1.83k [00:00<?, ?B/s]\n",
            "\r100% 1.83k/1.83k [00:00<00:00, 1.70MB/s]\n"
          ]
        }
      ]
    },
    {
      "cell_type": "markdown",
      "metadata": {
        "id": "LRZT7pTeAwun"
      },
      "source": [
        "데이터셋 압축 해제"
      ]
    },
    {
      "cell_type": "code",
      "metadata": {
        "colab": {
          "base_uri": "https://localhost:8080/"
        },
        "id": "NrPmd4LwAf7B",
        "outputId": "c84920aa-3b7c-4c15-abf3-c997cb6db59b"
      },
      "source": [
        "!unzip /content/advertising-dataset.zip"
      ],
      "execution_count": null,
      "outputs": [
        {
          "output_type": "stream",
          "name": "stdout",
          "text": [
            "Archive:  /content/advertising-dataset.zip\n",
            "  inflating: advertising.csv         \n"
          ]
        }
      ]
    },
    {
      "cell_type": "markdown",
      "metadata": {
        "id": "NOfVzLpuN69u"
      },
      "source": [
        "##  광고 데이터 예측 (Single-variable linear regression)\n",
        "\n",
        "TV 광고 금액으로 Sales 예측하기"
      ]
    },
    {
      "cell_type": "code",
      "metadata": {
        "id": "ksVdzcqqN0wX"
      },
      "source": [
        "from tensorflow.keras.models import Sequential\n",
        "from tensorflow.keras.layers import Dense\n",
        "from tensorflow.keras.optimizers import Adam, SGD\n",
        "import numpy as np #여기까지는 기본적으로 사용하는거\n",
        "import pandas as pd\n",
        "import matplotlib.pyplot as plt #그래프그릴때 사용\n",
        "import seaborn as sns\n",
        "from sklearn.model_selection import train_test_split #왼쪽클래스를 사용"
      ],
      "execution_count": null,
      "outputs": []
    },
    {
      "cell_type": "markdown",
      "metadata": {
        "id": "Up2hzeoQYP4p"
      },
      "source": [
        "### 데이터셋 로드"
      ]
    },
    {
      "cell_type": "code",
      "metadata": {
        "colab": {
          "base_uri": "https://localhost:8080/",
          "height": 206
        },
        "id": "cEpSXjHLOMSl",
        "outputId": "5b8c4b30-2f05-43c2-85d9-5676d092394e"
      },
      "source": [
        "df = pd.read_csv('advertising.csv')\n",
        "df.head(5) #앞에서부터 5줄을 출력해라 "
      ],
      "execution_count": null,
      "outputs": [
        {
          "output_type": "execute_result",
          "data": {
            "text/html": [
              "\n",
              "  <div id=\"df-660bf853-8e4d-476f-a8e8-d1787bfebf7d\">\n",
              "    <div class=\"colab-df-container\">\n",
              "      <div>\n",
              "<style scoped>\n",
              "    .dataframe tbody tr th:only-of-type {\n",
              "        vertical-align: middle;\n",
              "    }\n",
              "\n",
              "    .dataframe tbody tr th {\n",
              "        vertical-align: top;\n",
              "    }\n",
              "\n",
              "    .dataframe thead th {\n",
              "        text-align: right;\n",
              "    }\n",
              "</style>\n",
              "<table border=\"1\" class=\"dataframe\">\n",
              "  <thead>\n",
              "    <tr style=\"text-align: right;\">\n",
              "      <th></th>\n",
              "      <th>TV</th>\n",
              "      <th>Radio</th>\n",
              "      <th>Newspaper</th>\n",
              "      <th>Sales</th>\n",
              "    </tr>\n",
              "  </thead>\n",
              "  <tbody>\n",
              "    <tr>\n",
              "      <th>0</th>\n",
              "      <td>230.1</td>\n",
              "      <td>37.8</td>\n",
              "      <td>69.2</td>\n",
              "      <td>22.1</td>\n",
              "    </tr>\n",
              "    <tr>\n",
              "      <th>1</th>\n",
              "      <td>44.5</td>\n",
              "      <td>39.3</td>\n",
              "      <td>45.1</td>\n",
              "      <td>10.4</td>\n",
              "    </tr>\n",
              "    <tr>\n",
              "      <th>2</th>\n",
              "      <td>17.2</td>\n",
              "      <td>45.9</td>\n",
              "      <td>69.3</td>\n",
              "      <td>12.0</td>\n",
              "    </tr>\n",
              "    <tr>\n",
              "      <th>3</th>\n",
              "      <td>151.5</td>\n",
              "      <td>41.3</td>\n",
              "      <td>58.5</td>\n",
              "      <td>16.5</td>\n",
              "    </tr>\n",
              "    <tr>\n",
              "      <th>4</th>\n",
              "      <td>180.8</td>\n",
              "      <td>10.8</td>\n",
              "      <td>58.4</td>\n",
              "      <td>17.9</td>\n",
              "    </tr>\n",
              "  </tbody>\n",
              "</table>\n",
              "</div>\n",
              "      <button class=\"colab-df-convert\" onclick=\"convertToInteractive('df-660bf853-8e4d-476f-a8e8-d1787bfebf7d')\"\n",
              "              title=\"Convert this dataframe to an interactive table.\"\n",
              "              style=\"display:none;\">\n",
              "        \n",
              "  <svg xmlns=\"http://www.w3.org/2000/svg\" height=\"24px\"viewBox=\"0 0 24 24\"\n",
              "       width=\"24px\">\n",
              "    <path d=\"M0 0h24v24H0V0z\" fill=\"none\"/>\n",
              "    <path d=\"M18.56 5.44l.94 2.06.94-2.06 2.06-.94-2.06-.94-.94-2.06-.94 2.06-2.06.94zm-11 1L8.5 8.5l.94-2.06 2.06-.94-2.06-.94L8.5 2.5l-.94 2.06-2.06.94zm10 10l.94 2.06.94-2.06 2.06-.94-2.06-.94-.94-2.06-.94 2.06-2.06.94z\"/><path d=\"M17.41 7.96l-1.37-1.37c-.4-.4-.92-.59-1.43-.59-.52 0-1.04.2-1.43.59L10.3 9.45l-7.72 7.72c-.78.78-.78 2.05 0 2.83L4 21.41c.39.39.9.59 1.41.59.51 0 1.02-.2 1.41-.59l7.78-7.78 2.81-2.81c.8-.78.8-2.07 0-2.86zM5.41 20L4 18.59l7.72-7.72 1.47 1.35L5.41 20z\"/>\n",
              "  </svg>\n",
              "      </button>\n",
              "      \n",
              "  <style>\n",
              "    .colab-df-container {\n",
              "      display:flex;\n",
              "      flex-wrap:wrap;\n",
              "      gap: 12px;\n",
              "    }\n",
              "\n",
              "    .colab-df-convert {\n",
              "      background-color: #E8F0FE;\n",
              "      border: none;\n",
              "      border-radius: 50%;\n",
              "      cursor: pointer;\n",
              "      display: none;\n",
              "      fill: #1967D2;\n",
              "      height: 32px;\n",
              "      padding: 0 0 0 0;\n",
              "      width: 32px;\n",
              "    }\n",
              "\n",
              "    .colab-df-convert:hover {\n",
              "      background-color: #E2EBFA;\n",
              "      box-shadow: 0px 1px 2px rgba(60, 64, 67, 0.3), 0px 1px 3px 1px rgba(60, 64, 67, 0.15);\n",
              "      fill: #174EA6;\n",
              "    }\n",
              "\n",
              "    [theme=dark] .colab-df-convert {\n",
              "      background-color: #3B4455;\n",
              "      fill: #D2E3FC;\n",
              "    }\n",
              "\n",
              "    [theme=dark] .colab-df-convert:hover {\n",
              "      background-color: #434B5C;\n",
              "      box-shadow: 0px 1px 3px 1px rgba(0, 0, 0, 0.15);\n",
              "      filter: drop-shadow(0px 1px 2px rgba(0, 0, 0, 0.3));\n",
              "      fill: #FFFFFF;\n",
              "    }\n",
              "  </style>\n",
              "\n",
              "      <script>\n",
              "        const buttonEl =\n",
              "          document.querySelector('#df-660bf853-8e4d-476f-a8e8-d1787bfebf7d button.colab-df-convert');\n",
              "        buttonEl.style.display =\n",
              "          google.colab.kernel.accessAllowed ? 'block' : 'none';\n",
              "\n",
              "        async function convertToInteractive(key) {\n",
              "          const element = document.querySelector('#df-660bf853-8e4d-476f-a8e8-d1787bfebf7d');\n",
              "          const dataTable =\n",
              "            await google.colab.kernel.invokeFunction('convertToInteractive',\n",
              "                                                     [key], {});\n",
              "          if (!dataTable) return;\n",
              "\n",
              "          const docLinkHtml = 'Like what you see? Visit the ' +\n",
              "            '<a target=\"_blank\" href=https://colab.research.google.com/notebooks/data_table.ipynb>data table notebook</a>'\n",
              "            + ' to learn more about interactive tables.';\n",
              "          element.innerHTML = '';\n",
              "          dataTable['output_type'] = 'display_data';\n",
              "          await google.colab.output.renderOutput(dataTable, element);\n",
              "          const docLink = document.createElement('div');\n",
              "          docLink.innerHTML = docLinkHtml;\n",
              "          element.appendChild(docLink);\n",
              "        }\n",
              "      </script>\n",
              "    </div>\n",
              "  </div>\n",
              "  "
            ],
            "text/plain": [
              "      TV  Radio  Newspaper  Sales\n",
              "0  230.1   37.8       69.2   22.1\n",
              "1   44.5   39.3       45.1   10.4\n",
              "2   17.2   45.9       69.3   12.0\n",
              "3  151.5   41.3       58.5   16.5\n",
              "4  180.8   10.8       58.4   17.9"
            ]
          },
          "metadata": {},
          "execution_count": 6
        }
      ]
    },
    {
      "cell_type": "markdown",
      "metadata": {
        "id": "pYgVoNAhYSTz"
      },
      "source": [
        "### 데이터셋 크기 살펴보기"
      ]
    },
    {
      "cell_type": "code",
      "metadata": {
        "colab": {
          "base_uri": "https://localhost:8080/"
        },
        "id": "TSBBZ9lRLJLa",
        "outputId": "87c869e1-615c-4bb8-ebf4-00f59a0583a0"
      },
      "source": [
        "print(df.shape)"
      ],
      "execution_count": null,
      "outputs": [
        {
          "output_type": "stream",
          "name": "stdout",
          "text": [
            "(200, 4)\n"
          ]
        }
      ]
    },
    {
      "cell_type": "markdown",
      "metadata": {
        "id": "HRHjsh0xYUjg"
      },
      "source": [
        "### 데이터셋 살짝 살펴보기"
      ]
    },
    {
      "cell_type": "code",
      "metadata": {
        "colab": {
          "base_uri": "https://localhost:8080/",
          "height": 320
        },
        "id": "spTnCen_WKdY",
        "outputId": "dc4d39ee-4bc9-4a75-99ed-62a243a391dc"
      },
      "source": [
        "sns.pairplot(df, x_vars=['TV', 'Newspaper', 'Radio'], y_vars=['Sales'], height=4) #pairplot데이터프레임을\n",
        "#통째로넣은후 내가보고싶은variable만뽑아서 관계를보여줘~ 높이는 4!"
      ],
      "execution_count": null,
      "outputs": [
        {
          "output_type": "execute_result",
          "data": {
            "text/plain": [
              "<seaborn.axisgrid.PairGrid at 0x7f9e983fdcf8>"
            ]
          },
          "metadata": {
            "tags": []
          },
          "execution_count": 7
        },
        {
          "output_type": "display_data",
          "data": {
            "image/png": "[encoded data removed]",
            "text/plain": [
              "<Figure size 864x288 with 3 Axes>"
            ]
          },
          "metadata": {
            "tags": [],
            "needs_background": "light"
          }
        }
      ]
    },
    {
      "cell_type": "markdown",
      "metadata": {
        "id": "jmvXlwj1aED2"
      },
      "source": [
        "### 데이터셋 가공"
      ]
    },
    {
      "cell_type": "code",
      "metadata": {
        "colab": {
          "base_uri": "https://localhost:8080/"
        },
        "id": "d8k2hvaeaSFz",
        "outputId": "68d57050-091e-4fe5-bae4-228127ba0563"
      },
      "source": [
        "x_data = np.array(df[['TV']], dtype=np.float32) #인풋은항상x\n",
        "y_data = np.array(df['Sales'], dtype=np.float32) #아웃풋은 항상 y \n",
        "\n",
        "print(x_data.shape)\n",
        "print(y_data.shape)"
      ],
      "execution_count": null,
      "outputs": [
        {
          "output_type": "stream",
          "name": "stdout",
          "text": [
            "(200, 1)\n",
            "(200,)\n"
          ]
        }
      ]
    },
    {
      "cell_type": "code",
      "metadata": {
        "colab": {
          "base_uri": "https://localhost:8080/"
        },
        "id": "ddaacFAiaHHD",
        "outputId": "6e6e20b7-4d16-4bd7-bb15-0097b859425d"
      },
      "source": [
        "x_data = x_data.reshape((-1, 1)) #-1은 남은수만큼 알아서 변형해라~//1은뒤에가 무조건 1이 되어야한다. \n",
        "y_data = y_data.reshape((-1, 1))\n",
        "#이렇게 reshape을 해야지 keras가 인식을 하기가 편하다. \n",
        "print(x_data.shape)\n",
        "print(y_data.shape)"
      ],
      "execution_count": null,
      "outputs": [
        {
          "output_type": "stream",
          "text": [
            "(200, 1)\n",
            "(200, 1)\n"
          ],
          "name": "stdout"
        }
      ]
    },
    {
      "cell_type": "markdown",
      "metadata": {
        "id": "ghw_Bg0pYZEz"
      },
      "source": [
        "### 데이터셋 분할\n",
        "\n",
        "학습 데이터 80%\n",
        "검증 데이터 20%\n",
        "\n",
        "참고) 강의에서는 편의를 위해 테스트 데이터를 나누지 않았습니다. 실무에서는 꼭 학습/검증/테시트 데이터를 나누는 것 잊지마세요!"
      ]
    },
    {
      "cell_type": "code",
      "metadata": {
        "colab": {
          "base_uri": "https://localhost:8080/"
        },
        "id": "TwfkqScaW48i",
        "outputId": "f4b7e5aa-b487-499e-af67-8c17d1a22540"
      },
      "source": [
        "x_train, x_val, y_train, y_val = train_test_split(x_data, y_data, test_size=0.2, random_state=2021)\n",
        "\n",
        "print(x_train.shape, x_val.shape)\n",
        "print(y_train.shape, y_val.shape)"
      ],
      "execution_count": null,
      "outputs": [
        {
          "output_type": "stream",
          "name": "stdout",
          "text": [
            "(160, 1) (40, 1)\n",
            "(160,) (40,)\n"
          ]
        }
      ]
    },
    {
      "cell_type": "markdown",
      "metadata": {
        "id": "t3EsOEewbKEr"
      },
      "source": [
        "### 학습"
      ]
    },
    {
      "cell_type": "code",
      "metadata": {
        "colab": {
          "base_uri": "https://localhost:8080/"
        },
        "id": "e3pCXpbJYJ_I",
        "outputId": "29b4c644-5722-47b0-caba-3cfbfcb1f23c"
      },
      "source": [
        "model = Sequential([\n",
        "  Dense(1) #출력이 1이기때문에. \n",
        "])\n",
        "\n",
        "model.compile(loss='mean_squared_error', optimizer=Adam(lr=0.1))\n",
        "\n",
        "model.fit( #학습시킬때는 fit! 입혀보는거다! \n",
        "    x_train,\n",
        "    y_train,\n",
        "    validation_data=(x_val, y_val), # 검증 데이터를 넣어주면 한 epoch이 끝날때마다 자동으로 검증\n",
        "    epochs=100 # epochs 복수형으로 쓰기!\n",
        ")"
      ],
      "execution_count": null,
      "outputs": [
        {
          "output_type": "stream",
          "name": "stderr",
          "text": [
            "/usr/local/lib/python3.7/dist-packages/keras/optimizer_v2/adam.py:105: UserWarning: The `lr` argument is deprecated, use `learning_rate` instead.\n",
            "  super(Adam, self).__init__(name, **kwargs)\n"
          ]
        },
        {
          "output_type": "stream",
          "name": "stdout",
          "text": [
            "Epoch 1/100\n",
            "5/5 [==============================] - 1s 71ms/step - loss: 5833.3726 - val_loss: 761.3849\n",
            "Epoch 2/100\n",
            "5/5 [==============================] - 0s 11ms/step - loss: 319.5809 - val_loss: 1034.7961\n",
            "Epoch 3/100\n",
            "5/5 [==============================] - 0s 12ms/step - loss: 1451.2655 - val_loss: 1417.9568\n",
            "Epoch 4/100\n",
            "5/5 [==============================] - 0s 12ms/step - loss: 740.4556 - val_loss: 117.6895\n",
            "Epoch 5/100\n",
            "5/5 [==============================] - 0s 10ms/step - loss: 82.6511 - val_loss: 280.2858\n",
            "Epoch 6/100\n",
            "5/5 [==============================] - 0s 11ms/step - loss: 332.9115 - val_loss: 373.0184\n",
            "Epoch 7/100\n",
            "5/5 [==============================] - 0s 10ms/step - loss: 183.7398 - val_loss: 38.4852\n",
            "Epoch 8/100\n",
            "5/5 [==============================] - 0s 14ms/step - loss: 36.3760 - val_loss: 91.6688\n",
            "Epoch 9/100\n",
            "5/5 [==============================] - 0s 15ms/step - loss: 101.1033 - val_loss: 75.7784\n",
            "Epoch 10/100\n",
            "5/5 [==============================] - 0s 11ms/step - loss: 42.7364 - val_loss: 23.9466\n",
            "Epoch 11/100\n",
            "5/5 [==============================] - 0s 12ms/step - loss: 28.3562 - val_loss: 55.9896\n",
            "Epoch 12/100\n",
            "5/5 [==============================] - 0s 11ms/step - loss: 38.3562 - val_loss: 28.5883\n",
            "Epoch 13/100\n",
            "5/5 [==============================] - 0s 10ms/step - loss: 21.1898 - val_loss: 24.7937\n",
            "Epoch 14/100\n",
            "5/5 [==============================] - 0s 10ms/step - loss: 24.5488 - val_loss: 24.2463\n",
            "Epoch 15/100\n",
            "5/5 [==============================] - 0s 12ms/step - loss: 19.4504 - val_loss: 22.1590\n",
            "Epoch 16/100\n",
            "5/5 [==============================] - 0s 13ms/step - loss: 18.5555 - val_loss: 24.3903\n",
            "Epoch 17/100\n",
            "5/5 [==============================] - 0s 11ms/step - loss: 18.6519 - val_loss: 21.0446\n",
            "Epoch 18/100\n",
            "5/5 [==============================] - 0s 11ms/step - loss: 17.3722 - val_loss: 20.5883\n",
            "Epoch 19/100\n",
            "5/5 [==============================] - 0s 12ms/step - loss: 17.5016 - val_loss: 20.3381\n",
            "Epoch 20/100\n",
            "5/5 [==============================] - 0s 11ms/step - loss: 16.9488 - val_loss: 20.9131\n",
            "Epoch 21/100\n",
            "5/5 [==============================] - 0s 11ms/step - loss: 16.9702 - val_loss: 20.3826\n",
            "Epoch 22/100\n",
            "5/5 [==============================] - 0s 16ms/step - loss: 16.6539 - val_loss: 19.8769\n",
            "Epoch 23/100\n",
            "5/5 [==============================] - 0s 11ms/step - loss: 16.4820 - val_loss: 19.6519\n",
            "Epoch 24/100\n",
            "5/5 [==============================] - 0s 12ms/step - loss: 16.3671 - val_loss: 19.5278\n",
            "Epoch 25/100\n",
            "5/5 [==============================] - 0s 12ms/step - loss: 16.1480 - val_loss: 19.3308\n",
            "Epoch 26/100\n",
            "5/5 [==============================] - 0s 14ms/step - loss: 15.9539 - val_loss: 19.0632\n",
            "Epoch 27/100\n",
            "5/5 [==============================] - 0s 11ms/step - loss: 15.8822 - val_loss: 18.7883\n",
            "Epoch 28/100\n",
            "5/5 [==============================] - 0s 12ms/step - loss: 15.5974 - val_loss: 18.7971\n",
            "Epoch 29/100\n",
            "5/5 [==============================] - 0s 15ms/step - loss: 15.5726 - val_loss: 18.8556\n",
            "Epoch 30/100\n",
            "5/5 [==============================] - 0s 16ms/step - loss: 15.3085 - val_loss: 18.2018\n",
            "Epoch 31/100\n",
            "5/5 [==============================] - 0s 16ms/step - loss: 15.1138 - val_loss: 17.9700\n",
            "Epoch 32/100\n",
            "5/5 [==============================] - 0s 12ms/step - loss: 15.0486 - val_loss: 17.9482\n",
            "Epoch 33/100\n",
            "5/5 [==============================] - 0s 12ms/step - loss: 14.7687 - val_loss: 17.5729\n",
            "Epoch 34/100\n",
            "5/5 [==============================] - 0s 18ms/step - loss: 14.6197 - val_loss: 17.4188\n",
            "Epoch 35/100\n",
            "5/5 [==============================] - 0s 13ms/step - loss: 14.4681 - val_loss: 17.2314\n",
            "Epoch 36/100\n",
            "5/5 [==============================] - 0s 11ms/step - loss: 14.2715 - val_loss: 17.1103\n",
            "Epoch 37/100\n",
            "5/5 [==============================] - 0s 16ms/step - loss: 14.1137 - val_loss: 16.8336\n",
            "Epoch 38/100\n",
            "5/5 [==============================] - 0s 11ms/step - loss: 13.9876 - val_loss: 16.4854\n",
            "Epoch 39/100\n",
            "5/5 [==============================] - 0s 16ms/step - loss: 13.7631 - val_loss: 16.4158\n",
            "Epoch 40/100\n",
            "5/5 [==============================] - 0s 11ms/step - loss: 13.7753 - val_loss: 16.2459\n",
            "Epoch 41/100\n",
            "5/5 [==============================] - 0s 14ms/step - loss: 13.4372 - val_loss: 15.9451\n",
            "Epoch 42/100\n",
            "5/5 [==============================] - 0s 11ms/step - loss: 13.3576 - val_loss: 15.9063\n",
            "Epoch 43/100\n",
            "5/5 [==============================] - 0s 11ms/step - loss: 13.2409 - val_loss: 15.4531\n",
            "Epoch 44/100\n",
            "5/5 [==============================] - 0s 11ms/step - loss: 12.9567 - val_loss: 15.5059\n",
            "Epoch 45/100\n",
            "5/5 [==============================] - 0s 10ms/step - loss: 12.8176 - val_loss: 15.3897\n",
            "Epoch 46/100\n",
            "5/5 [==============================] - 0s 11ms/step - loss: 12.7064 - val_loss: 14.8974\n",
            "Epoch 47/100\n",
            "5/5 [==============================] - 0s 11ms/step - loss: 12.5274 - val_loss: 14.6704\n",
            "Epoch 48/100\n",
            "5/5 [==============================] - 0s 13ms/step - loss: 12.3582 - val_loss: 14.7196\n",
            "Epoch 49/100\n",
            "5/5 [==============================] - 0s 11ms/step - loss: 12.2281 - val_loss: 14.5036\n",
            "Epoch 50/100\n",
            "5/5 [==============================] - 0s 12ms/step - loss: 12.0552 - val_loss: 14.1334\n",
            "Epoch 51/100\n",
            "5/5 [==============================] - 0s 11ms/step - loss: 11.8591 - val_loss: 14.0048\n",
            "Epoch 52/100\n",
            "5/5 [==============================] - 0s 11ms/step - loss: 11.7688 - val_loss: 14.0089\n",
            "Epoch 53/100\n",
            "5/5 [==============================] - 0s 16ms/step - loss: 11.5687 - val_loss: 13.5787\n",
            "Epoch 54/100\n",
            "5/5 [==============================] - 0s 17ms/step - loss: 11.6038 - val_loss: 13.5644\n",
            "Epoch 55/100\n",
            "5/5 [==============================] - 0s 12ms/step - loss: 11.3258 - val_loss: 13.1973\n",
            "Epoch 56/100\n",
            "5/5 [==============================] - 0s 11ms/step - loss: 11.1443 - val_loss: 13.1638\n",
            "Epoch 57/100\n",
            "5/5 [==============================] - 0s 12ms/step - loss: 10.9644 - val_loss: 13.1620\n",
            "Epoch 58/100\n",
            "5/5 [==============================] - 0s 15ms/step - loss: 10.8573 - val_loss: 12.7662\n",
            "Epoch 59/100\n",
            "5/5 [==============================] - 0s 16ms/step - loss: 10.7167 - val_loss: 12.5554\n",
            "Epoch 60/100\n",
            "5/5 [==============================] - 0s 13ms/step - loss: 10.6689 - val_loss: 12.3517\n",
            "Epoch 61/100\n",
            "5/5 [==============================] - 0s 11ms/step - loss: 10.5265 - val_loss: 12.6316\n",
            "Epoch 62/100\n",
            "5/5 [==============================] - 0s 13ms/step - loss: 10.4815 - val_loss: 12.0705\n",
            "Epoch 63/100\n",
            "5/5 [==============================] - 0s 12ms/step - loss: 10.2054 - val_loss: 11.8770\n",
            "Epoch 64/100\n",
            "5/5 [==============================] - 0s 12ms/step - loss: 10.0588 - val_loss: 11.8831\n",
            "Epoch 65/100\n",
            "5/5 [==============================] - 0s 12ms/step - loss: 10.1582 - val_loss: 11.7328\n",
            "Epoch 66/100\n",
            "5/5 [==============================] - 0s 12ms/step - loss: 9.9397 - val_loss: 11.4116\n",
            "Epoch 67/100\n",
            "5/5 [==============================] - 0s 12ms/step - loss: 9.6972 - val_loss: 11.4219\n",
            "Epoch 68/100\n",
            "5/5 [==============================] - 0s 11ms/step - loss: 9.7527 - val_loss: 11.2821\n",
            "Epoch 69/100\n",
            "5/5 [==============================] - 0s 11ms/step - loss: 9.4982 - val_loss: 10.9880\n",
            "Epoch 70/100\n",
            "5/5 [==============================] - 0s 11ms/step - loss: 9.4013 - val_loss: 10.9983\n",
            "Epoch 71/100\n",
            "5/5 [==============================] - 0s 11ms/step - loss: 9.3443 - val_loss: 10.8167\n",
            "Epoch 72/100\n",
            "5/5 [==============================] - 0s 16ms/step - loss: 9.0798 - val_loss: 10.5661\n",
            "Epoch 73/100\n",
            "5/5 [==============================] - 0s 10ms/step - loss: 9.2080 - val_loss: 10.4888\n",
            "Epoch 74/100\n",
            "5/5 [==============================] - 0s 10ms/step - loss: 8.9771 - val_loss: 10.3149\n",
            "Epoch 75/100\n",
            "5/5 [==============================] - 0s 14ms/step - loss: 8.9742 - val_loss: 10.4179\n",
            "Epoch 76/100\n",
            "5/5 [==============================] - 0s 11ms/step - loss: 8.6905 - val_loss: 10.0602\n",
            "Epoch 77/100\n",
            "5/5 [==============================] - 0s 11ms/step - loss: 8.6795 - val_loss: 10.0494\n",
            "Epoch 78/100\n",
            "5/5 [==============================] - 0s 10ms/step - loss: 8.5600 - val_loss: 9.9295\n",
            "Epoch 79/100\n",
            "5/5 [==============================] - 0s 16ms/step - loss: 8.4707 - val_loss: 9.9400\n",
            "Epoch 80/100\n",
            "5/5 [==============================] - 0s 12ms/step - loss: 8.4154 - val_loss: 9.5762\n",
            "Epoch 81/100\n",
            "5/5 [==============================] - 0s 11ms/step - loss: 8.3782 - val_loss: 9.6669\n",
            "Epoch 82/100\n",
            "5/5 [==============================] - 0s 10ms/step - loss: 8.4041 - val_loss: 9.3511\n",
            "Epoch 83/100\n",
            "5/5 [==============================] - 0s 12ms/step - loss: 8.5774 - val_loss: 9.6414\n",
            "Epoch 84/100\n",
            "5/5 [==============================] - 0s 12ms/step - loss: 8.2364 - val_loss: 9.4114\n",
            "Epoch 85/100\n",
            "5/5 [==============================] - 0s 13ms/step - loss: 8.2250 - val_loss: 9.6162\n",
            "Epoch 86/100\n",
            "5/5 [==============================] - 0s 11ms/step - loss: 8.0077 - val_loss: 9.0274\n",
            "Epoch 87/100\n",
            "5/5 [==============================] - 0s 15ms/step - loss: 7.6804 - val_loss: 8.8307\n",
            "Epoch 88/100\n",
            "5/5 [==============================] - 0s 12ms/step - loss: 7.6395 - val_loss: 8.7665\n",
            "Epoch 89/100\n",
            "5/5 [==============================] - 0s 12ms/step - loss: 7.5938 - val_loss: 8.7516\n",
            "Epoch 90/100\n",
            "5/5 [==============================] - 0s 11ms/step - loss: 7.7881 - val_loss: 8.7558\n",
            "Epoch 91/100\n",
            "5/5 [==============================] - 0s 13ms/step - loss: 7.5632 - val_loss: 8.6958\n",
            "Epoch 92/100\n",
            "5/5 [==============================] - 0s 16ms/step - loss: 7.3532 - val_loss: 8.7139\n",
            "Epoch 93/100\n",
            "5/5 [==============================] - 0s 14ms/step - loss: 7.5658 - val_loss: 8.6099\n",
            "Epoch 94/100\n",
            "5/5 [==============================] - 0s 13ms/step - loss: 7.2830 - val_loss: 8.3027\n",
            "Epoch 95/100\n",
            "5/5 [==============================] - 0s 12ms/step - loss: 7.2651 - val_loss: 8.2703\n",
            "Epoch 96/100\n",
            "5/5 [==============================] - 0s 13ms/step - loss: 7.1197 - val_loss: 8.1310\n",
            "Epoch 97/100\n",
            "5/5 [==============================] - 0s 13ms/step - loss: 7.0301 - val_loss: 7.9758\n",
            "Epoch 98/100\n",
            "5/5 [==============================] - 0s 12ms/step - loss: 6.9907 - val_loss: 7.9205\n",
            "Epoch 99/100\n",
            "5/5 [==============================] - 0s 14ms/step - loss: 7.1164 - val_loss: 7.8938\n",
            "Epoch 100/100\n",
            "5/5 [==============================] - 0s 12ms/step - loss: 7.0302 - val_loss: 7.8513\n"
          ]
        },
        {
          "output_type": "execute_result",
          "data": {
            "text/plain": [
              "<keras.callbacks.History at 0x7f0358290cd0>"
            ]
          },
          "metadata": {},
          "execution_count": 10
        }
      ]
    },
    {
      "cell_type": "markdown",
      "metadata": {
        "id": "cl7D4qePcLz6"
      },
      "source": [
        "### 검증 데이터로 예측하기"
      ]
    },
    {
      "cell_type": "code",
      "metadata": {
        "colab": {
          "base_uri": "https://localhost:8080/",
          "height": 265
        },
        "id": "DSDFaX_ZcKDQ",
        "outputId": "bb6ff1c9-5cc5-435e-bd8c-b1d78c4a1958"
      },
      "source": [
        "y_pred = model.predict(x_val)\n",
        "\n",
        "plt.scatter(x_val, y_val) #plt.scatter 로점을 다다다닥찍어주세요~\n",
        "plt.scatter(x_val, y_pred, color='r')\n",
        "plt.show()#보여주세요 !"
      ],
      "execution_count": null,
      "outputs": [
        {
          "output_type": "display_data",
          "data": {
            "image/png": "[encoded data removed]",
            "text/plain": [
              "<Figure size 432x288 with 1 Axes>"
            ]
          },
          "metadata": {
            "needs_background": "light"
          }
        }
      ]
    },
    {
      "cell_type": "markdown",
      "metadata": {
        "id": "X5mgiMiCyVPI"
      },
      "source": [
        "## 광고 데이터 예측하기 (Multi-variable linear regression)\n",
        "\n",
        "TV, Newspaper, Radio 광고 금액으로 Sales 예측하기"
      ]
    },
    {
      "cell_type": "code",
      "metadata": {
        "colab": {
          "base_uri": "https://localhost:8080/"
        },
        "id": "-QHEaAyIZTHn",
        "outputId": "462fad6d-6b2d-45c4-e97b-27dd6627ab00"
      },
      "source": [
        "from tensorflow.keras.models import Sequential\n",
        "from tensorflow.keras.layers import Dense\n",
        "from tensorflow.keras.optimizers import Adam, SGD\n",
        "import numpy as np\n",
        "import pandas as pd\n",
        "import matplotlib.pyplot as plt \n",
        "import seaborn as sns\n",
        "from sklearn.model_selection import train_test_split\n",
        "\n",
        "df = pd.read_csv('advertising.csv')\n",
        "\n",
        "x_data = np.array(df[['TV', 'Newspaper', 'Radio']], dtype=np.float32) #입력값이 여러가지니까 x 값이 늘어났다. \n",
        "y_data = np.array(df['Sales'], dtype=np.float32)\n",
        "\n",
        "x_data = x_data.reshape((-1, 3)) #뒤에값이 3개니까 3개를보고해야하니까 \n",
        "y_data = y_data.reshape((-1, 1))\n",
        "\n",
        "print(x_data.shape)\n",
        "print(y_data.shape)\n",
        "\n",
        "x_train, x_val, y_train, y_val = train_test_split(x_data, y_data, test_size=0.2, random_state=2021)\n",
        "\n",
        "print(x_train.shape, x_val.shape)\n",
        "print(y_train.shape, y_val.shape)\n",
        "\n",
        "model = Sequential([#모델도똑같고 \n",
        "  Dense(1)#출력도하나고!\n",
        "])\n",
        "\n",
        "model.compile(loss='mean_squared_error', optimizer=Adam(lr=0.1))\n",
        "\n",
        "model.fit(\n",
        "    x_train,\n",
        "    y_train,\n",
        "    validation_data=(x_val, y_val), # 검증 데이터를 넣어주면 한 epoch이 끝날때마다 자동으로 검증\n",
        "    epochs=100 # epochs 복수형으로 쓰기!\n",
        ")"
      ],
      "execution_count": null,
      "outputs": [
        {
          "output_type": "stream",
          "name": "stdout",
          "text": [
            "(200, 3)\n",
            "(200, 1)\n",
            "(160, 3) (40, 3)\n",
            "(160, 1) (40, 1)\n",
            "Epoch 1/100\n"
          ]
        },
        {
          "output_type": "stream",
          "name": "stderr",
          "text": [
            "/usr/local/lib/python3.7/dist-packages/keras/optimizer_v2/adam.py:105: UserWarning: The `lr` argument is deprecated, use `learning_rate` instead.\n",
            "  super(Adam, self).__init__(name, **kwargs)\n"
          ]
        },
        {
          "output_type": "stream",
          "name": "stdout",
          "text": [
            "5/5 [==============================] - 0s 31ms/step - loss: 564.0863 - val_loss: 187.2815\n",
            "Epoch 2/100\n",
            "5/5 [==============================] - 0s 8ms/step - loss: 226.5271 - val_loss: 133.9848\n",
            "Epoch 3/100\n",
            "5/5 [==============================] - 0s 7ms/step - loss: 109.8175 - val_loss: 115.3729\n",
            "Epoch 4/100\n",
            "5/5 [==============================] - 0s 7ms/step - loss: 80.9627 - val_loss: 64.9165\n",
            "Epoch 5/100\n",
            "5/5 [==============================] - 0s 7ms/step - loss: 37.0686 - val_loss: 34.3096\n",
            "Epoch 6/100\n",
            "5/5 [==============================] - 0s 7ms/step - loss: 20.5022 - val_loss: 9.4556\n",
            "Epoch 7/100\n",
            "5/5 [==============================] - 0s 7ms/step - loss: 9.4553 - val_loss: 10.2852\n",
            "Epoch 8/100\n",
            "5/5 [==============================] - 0s 8ms/step - loss: 10.6914 - val_loss: 12.2417\n",
            "Epoch 9/100\n",
            "5/5 [==============================] - 0s 9ms/step - loss: 10.7605 - val_loss: 10.8214\n",
            "Epoch 10/100\n",
            "5/5 [==============================] - 0s 7ms/step - loss: 7.2912 - val_loss: 10.1295\n",
            "Epoch 11/100\n",
            "5/5 [==============================] - 0s 7ms/step - loss: 6.0282 - val_loss: 8.8029\n",
            "Epoch 12/100\n",
            "5/5 [==============================] - 0s 8ms/step - loss: 5.6455 - val_loss: 8.2405\n",
            "Epoch 13/100\n",
            "5/5 [==============================] - 0s 8ms/step - loss: 5.0810 - val_loss: 7.5746\n",
            "Epoch 14/100\n",
            "5/5 [==============================] - 0s 9ms/step - loss: 5.7880 - val_loss: 7.9137\n",
            "Epoch 15/100\n",
            "5/5 [==============================] - 0s 8ms/step - loss: 5.4944 - val_loss: 7.9548\n",
            "Epoch 16/100\n",
            "5/5 [==============================] - 0s 7ms/step - loss: 5.0246 - val_loss: 8.2174\n",
            "Epoch 17/100\n",
            "5/5 [==============================] - 0s 7ms/step - loss: 4.7149 - val_loss: 7.2159\n",
            "Epoch 18/100\n",
            "5/5 [==============================] - 0s 7ms/step - loss: 4.8791 - val_loss: 7.1816\n",
            "Epoch 19/100\n",
            "5/5 [==============================] - 0s 7ms/step - loss: 4.6452 - val_loss: 6.7578\n",
            "Epoch 20/100\n",
            "5/5 [==============================] - 0s 9ms/step - loss: 4.6290 - val_loss: 6.6425\n",
            "Epoch 21/100\n",
            "5/5 [==============================] - 0s 7ms/step - loss: 4.5526 - val_loss: 6.7111\n",
            "Epoch 22/100\n",
            "5/5 [==============================] - 0s 7ms/step - loss: 4.4162 - val_loss: 6.5800\n",
            "Epoch 23/100\n",
            "5/5 [==============================] - 0s 11ms/step - loss: 4.8358 - val_loss: 6.6320\n",
            "Epoch 24/100\n",
            "5/5 [==============================] - 0s 8ms/step - loss: 4.0868 - val_loss: 6.2418\n",
            "Epoch 25/100\n",
            "5/5 [==============================] - 0s 8ms/step - loss: 4.1378 - val_loss: 6.1345\n",
            "Epoch 26/100\n",
            "5/5 [==============================] - 0s 8ms/step - loss: 3.9591 - val_loss: 6.2287\n",
            "Epoch 27/100\n",
            "5/5 [==============================] - 0s 7ms/step - loss: 4.0016 - val_loss: 6.0824\n",
            "Epoch 28/100\n",
            "5/5 [==============================] - 0s 8ms/step - loss: 3.8770 - val_loss: 6.0473\n",
            "Epoch 29/100\n",
            "5/5 [==============================] - 0s 7ms/step - loss: 3.8728 - val_loss: 5.7742\n",
            "Epoch 30/100\n",
            "5/5 [==============================] - 0s 9ms/step - loss: 3.7506 - val_loss: 5.7110\n",
            "Epoch 31/100\n",
            "5/5 [==============================] - 0s 9ms/step - loss: 3.7316 - val_loss: 6.0161\n",
            "Epoch 32/100\n",
            "5/5 [==============================] - 0s 7ms/step - loss: 4.1755 - val_loss: 5.8655\n",
            "Epoch 33/100\n",
            "5/5 [==============================] - 0s 10ms/step - loss: 4.3711 - val_loss: 6.2867\n",
            "Epoch 34/100\n",
            "5/5 [==============================] - 0s 9ms/step - loss: 4.3411 - val_loss: 5.4850\n",
            "Epoch 35/100\n",
            "5/5 [==============================] - 0s 8ms/step - loss: 4.3186 - val_loss: 5.5751\n",
            "Epoch 36/100\n",
            "5/5 [==============================] - 0s 7ms/step - loss: 3.4154 - val_loss: 5.4029\n",
            "Epoch 37/100\n",
            "5/5 [==============================] - 0s 7ms/step - loss: 3.4693 - val_loss: 5.2239\n",
            "Epoch 38/100\n",
            "5/5 [==============================] - 0s 8ms/step - loss: 3.3670 - val_loss: 5.1353\n",
            "Epoch 39/100\n",
            "5/5 [==============================] - 0s 8ms/step - loss: 3.3251 - val_loss: 5.4529\n",
            "Epoch 40/100\n",
            "5/5 [==============================] - 0s 8ms/step - loss: 3.4505 - val_loss: 5.2037\n",
            "Epoch 41/100\n",
            "5/5 [==============================] - 0s 7ms/step - loss: 3.4991 - val_loss: 5.1966\n",
            "Epoch 42/100\n",
            "5/5 [==============================] - 0s 7ms/step - loss: 3.7151 - val_loss: 5.5472\n",
            "Epoch 43/100\n",
            "5/5 [==============================] - 0s 8ms/step - loss: 3.6993 - val_loss: 5.2066\n",
            "Epoch 44/100\n",
            "5/5 [==============================] - 0s 8ms/step - loss: 3.6462 - val_loss: 4.8096\n",
            "Epoch 45/100\n",
            "5/5 [==============================] - 0s 7ms/step - loss: 3.2771 - val_loss: 5.3086\n",
            "Epoch 46/100\n",
            "5/5 [==============================] - 0s 7ms/step - loss: 3.5928 - val_loss: 4.7831\n",
            "Epoch 47/100\n",
            "5/5 [==============================] - 0s 7ms/step - loss: 3.3397 - val_loss: 6.0357\n",
            "Epoch 48/100\n",
            "5/5 [==============================] - 0s 9ms/step - loss: 3.9098 - val_loss: 4.7880\n",
            "Epoch 49/100\n",
            "5/5 [==============================] - 0s 8ms/step - loss: 3.1563 - val_loss: 4.6044\n",
            "Epoch 50/100\n",
            "5/5 [==============================] - 0s 8ms/step - loss: 3.2007 - val_loss: 4.7366\n",
            "Epoch 51/100\n",
            "5/5 [==============================] - 0s 7ms/step - loss: 3.0730 - val_loss: 4.5910\n",
            "Epoch 52/100\n",
            "5/5 [==============================] - 0s 8ms/step - loss: 3.0886 - val_loss: 4.8432\n",
            "Epoch 53/100\n",
            "5/5 [==============================] - 0s 8ms/step - loss: 2.9102 - val_loss: 4.7489\n",
            "Epoch 54/100\n",
            "5/5 [==============================] - 0s 9ms/step - loss: 3.3451 - val_loss: 4.9182\n",
            "Epoch 55/100\n",
            "5/5 [==============================] - 0s 7ms/step - loss: 3.6284 - val_loss: 5.2157\n",
            "Epoch 56/100\n",
            "5/5 [==============================] - 0s 9ms/step - loss: 4.0738 - val_loss: 4.4053\n",
            "Epoch 57/100\n",
            "5/5 [==============================] - 0s 8ms/step - loss: 3.1036 - val_loss: 4.9716\n",
            "Epoch 58/100\n",
            "5/5 [==============================] - 0s 8ms/step - loss: 2.9973 - val_loss: 4.3744\n",
            "Epoch 59/100\n",
            "5/5 [==============================] - 0s 8ms/step - loss: 3.6215 - val_loss: 4.5825\n",
            "Epoch 60/100\n",
            "5/5 [==============================] - 0s 7ms/step - loss: 3.0182 - val_loss: 4.7452\n",
            "Epoch 61/100\n",
            "5/5 [==============================] - 0s 8ms/step - loss: 3.2112 - val_loss: 4.6014\n",
            "Epoch 62/100\n",
            "5/5 [==============================] - 0s 10ms/step - loss: 3.0427 - val_loss: 4.8860\n",
            "Epoch 63/100\n",
            "5/5 [==============================] - 0s 9ms/step - loss: 2.9989 - val_loss: 4.1121\n",
            "Epoch 64/100\n",
            "5/5 [==============================] - 0s 8ms/step - loss: 2.8449 - val_loss: 4.0674\n",
            "Epoch 65/100\n",
            "5/5 [==============================] - 0s 8ms/step - loss: 2.8609 - val_loss: 4.5688\n",
            "Epoch 66/100\n",
            "5/5 [==============================] - 0s 8ms/step - loss: 2.9805 - val_loss: 4.4293\n",
            "Epoch 67/100\n",
            "5/5 [==============================] - 0s 8ms/step - loss: 2.9373 - val_loss: 4.1951\n",
            "Epoch 68/100\n",
            "5/5 [==============================] - 0s 7ms/step - loss: 2.6691 - val_loss: 4.0664\n",
            "Epoch 69/100\n",
            "5/5 [==============================] - 0s 9ms/step - loss: 2.6579 - val_loss: 4.0059\n",
            "Epoch 70/100\n",
            "5/5 [==============================] - 0s 9ms/step - loss: 3.7237 - val_loss: 4.0623\n",
            "Epoch 71/100\n",
            "5/5 [==============================] - 0s 8ms/step - loss: 2.9700 - val_loss: 5.4857\n",
            "Epoch 72/100\n",
            "5/5 [==============================] - 0s 10ms/step - loss: 3.6947 - val_loss: 4.9653\n",
            "Epoch 73/100\n",
            "5/5 [==============================] - 0s 14ms/step - loss: 3.6761 - val_loss: 4.1754\n",
            "Epoch 74/100\n",
            "5/5 [==============================] - 0s 8ms/step - loss: 3.5116 - val_loss: 5.1398\n",
            "Epoch 75/100\n",
            "5/5 [==============================] - 0s 8ms/step - loss: 3.2147 - val_loss: 4.5878\n",
            "Epoch 76/100\n",
            "5/5 [==============================] - 0s 9ms/step - loss: 3.0562 - val_loss: 3.9568\n",
            "Epoch 77/100\n",
            "5/5 [==============================] - 0s 9ms/step - loss: 2.9438 - val_loss: 4.3464\n",
            "Epoch 78/100\n",
            "5/5 [==============================] - 0s 9ms/step - loss: 2.7613 - val_loss: 4.0457\n",
            "Epoch 79/100\n",
            "5/5 [==============================] - 0s 8ms/step - loss: 2.7649 - val_loss: 3.8626\n",
            "Epoch 80/100\n",
            "5/5 [==============================] - 0s 8ms/step - loss: 3.0291 - val_loss: 3.9746\n",
            "Epoch 81/100\n",
            "5/5 [==============================] - 0s 8ms/step - loss: 2.6867 - val_loss: 3.8867\n",
            "Epoch 82/100\n",
            "5/5 [==============================] - 0s 8ms/step - loss: 2.5722 - val_loss: 4.0616\n",
            "Epoch 83/100\n",
            "5/5 [==============================] - 0s 7ms/step - loss: 2.6012 - val_loss: 4.0460\n",
            "Epoch 84/100\n",
            "5/5 [==============================] - 0s 9ms/step - loss: 2.8869 - val_loss: 4.4026\n",
            "Epoch 85/100\n",
            "5/5 [==============================] - 0s 8ms/step - loss: 2.9297 - val_loss: 3.9592\n",
            "Epoch 86/100\n",
            "5/5 [==============================] - 0s 10ms/step - loss: 2.6272 - val_loss: 3.8665\n",
            "Epoch 87/100\n",
            "5/5 [==============================] - 0s 8ms/step - loss: 3.1865 - val_loss: 3.8487\n",
            "Epoch 88/100\n",
            "5/5 [==============================] - 0s 8ms/step - loss: 2.6879 - val_loss: 3.9495\n",
            "Epoch 89/100\n",
            "5/5 [==============================] - 0s 8ms/step - loss: 2.5881 - val_loss: 3.9459\n",
            "Epoch 90/100\n",
            "5/5 [==============================] - 0s 7ms/step - loss: 2.8974 - val_loss: 3.8073\n",
            "Epoch 91/100\n",
            "5/5 [==============================] - 0s 8ms/step - loss: 3.2018 - val_loss: 3.8609\n",
            "Epoch 92/100\n",
            "5/5 [==============================] - 0s 8ms/step - loss: 3.1041 - val_loss: 3.9121\n",
            "Epoch 93/100\n",
            "5/5 [==============================] - 0s 8ms/step - loss: 3.7069 - val_loss: 4.1325\n",
            "Epoch 94/100\n",
            "5/5 [==============================] - 0s 8ms/step - loss: 3.0639 - val_loss: 5.4249\n",
            "Epoch 95/100\n",
            "5/5 [==============================] - 0s 8ms/step - loss: 3.3534 - val_loss: 5.1939\n",
            "Epoch 96/100\n",
            "5/5 [==============================] - 0s 8ms/step - loss: 2.9737 - val_loss: 4.0477\n",
            "Epoch 97/100\n",
            "5/5 [==============================] - 0s 10ms/step - loss: 2.7291 - val_loss: 3.9570\n",
            "Epoch 98/100\n",
            "5/5 [==============================] - 0s 8ms/step - loss: 2.7407 - val_loss: 4.1847\n",
            "Epoch 99/100\n",
            "5/5 [==============================] - 0s 8ms/step - loss: 2.7021 - val_loss: 3.7202\n",
            "Epoch 100/100\n",
            "5/5 [==============================] - 0s 7ms/step - loss: 2.7317 - val_loss: 4.2053\n"
          ]
        },
        {
          "output_type": "execute_result",
          "data": {
            "text/plain": [
              "<keras.callbacks.History at 0x7f0357d18b10>"
            ]
          },
          "metadata": {},
          "execution_count": 12
        }
      ]
    },
    {
      "cell_type": "code",
      "metadata": {
        "colab": {
          "base_uri": "https://localhost:8080/"
        },
        "id": "-v5iXZoUe0AO",
        "outputId": "1ae7e172-cbb3-4db6-cb31-fabb3adc6034"
      },
      "source": [
        "y_pred = model.predict(x_val)#검증!\n",
        "\n",
        "print(y_pred.shape)"
      ],
      "execution_count": null,
      "outputs": [
        {
          "output_type": "stream",
          "name": "stdout",
          "text": [
            "(40, 1)\n"
          ]
        }
      ]
    },
    {
      "cell_type": "markdown",
      "metadata": {
        "id": "m1lZi6pshMEj"
      },
      "source": [
        "## TV 데이터 예측 그래프"
      ]
    },
    {
      "cell_type": "code",
      "metadata": {
        "colab": {
          "base_uri": "https://localhost:8080/",
          "height": 265
        },
        "id": "kHC3fszphZLT",
        "outputId": "146f1565-a656-4ac5-8089-c650b5abb192"
      },
      "source": [
        "plt.scatter(x_val[:, 0], y_val)\n",
        "plt.scatter(x_val[:, 0], y_pred, color='r')#예측값은빨간색으로찍어\n",
        "plt.show()#이문제는 2차원적인 문제가아니라서 선형으로 안보이겠지만 차원x값이3개니까 3차원그래프로보면 선형이 될것이다."
      ],
      "execution_count": null,
      "outputs": [
        {
          "output_type": "display_data",
          "data": {
            "image/png": "[encoded data removed]",
            "text/plain": [
              "<Figure size 432x288 with 1 Axes>"
            ]
          },
          "metadata": {
            "needs_background": "light"
          }
        }
      ]
    },
    {
      "cell_type": "markdown",
      "metadata": {
        "id": "cZfBsfSbhPN4"
      },
      "source": [
        "## Newspaper 데이터 예측 그래프"
      ]
    },
    {
      "cell_type": "code",
      "metadata": {
        "colab": {
          "base_uri": "https://localhost:8080/",
          "height": 265
        },
        "id": "TPsCzdPshBVU",
        "outputId": "69b9b778-7ad8-4940-dfaa-acf8b16146ae"
      },
      "source": [
        "plt.scatter(x_val[:, 1], y_val)\n",
        "plt.scatter(x_val[:, 1], y_pred, color='r')\n",
        "plt.show()"
      ],
      "execution_count": null,
      "outputs": [
        {
          "output_type": "display_data",
          "data": {
            "image/png": "[encoded data removed]",
            "text/plain": [
              "<Figure size 432x288 with 1 Axes>"
            ]
          },
          "metadata": {
            "needs_background": "light"
          }
        }
      ]
    },
    {
      "cell_type": "markdown",
      "metadata": {
        "id": "vjR5zH3gme5P"
      },
      "source": [
        "### Radio 데이터 예측 그래프"
      ]
    },
    {
      "cell_type": "code",
      "metadata": {
        "colab": {
          "base_uri": "https://localhost:8080/",
          "height": 265
        },
        "id": "yxcB-JEmhIcO",
        "outputId": "015d16fa-7610-42da-cf44-f5c77c13592f"
      },
      "source": [
        "plt.scatter(x_val[:, 2], y_val)\n",
        "plt.scatter(x_val[:, 2], y_pred, color='r')\n",
        "plt.show()"
      ],
      "execution_count": null,
      "outputs": [
        {
          "output_type": "display_data",
          "data": {
            "image/png": "[encoded data removed]",
            "text/plain": [
              "<Figure size 432x288 with 1 Axes>"
            ]
          },
          "metadata": {
            "needs_background": "light"
          }
        }
      ]
    },
    {
      "cell_type": "code",
      "source": [
        "!kaggle datasets download -d rsadiq/salary\n",
        "!unzip salary.zip"
      ],
      "metadata": {
        "colab": {
          "base_uri": "https://localhost:8080/"
        },
        "id": "okPqx9rTPXq8",
        "outputId": "84cfdf10-14db-4aa6-8bfc-8df4e8f78b2d"
      },
      "execution_count": null,
      "outputs": [
        {
          "output_type": "stream",
          "name": "stdout",
          "text": [
            "Downloading salary.zip to /content\n",
            "\r  0% 0.00/392 [00:00<?, ?B/s]\n",
            "\r100% 392/392 [00:00<00:00, 838kB/s]\n",
            "Archive:  salary.zip\n",
            "  inflating: Salary.csv              \n"
          ]
        }
      ]
    },
    {
      "cell_type": "markdown",
      "source": [
        "1.러닝레이트를 바꾸면서 실행하기\n",
        "2.옵티마이저를 바꾸면서 실험하기\n",
        "3.손실함수도 loss도 mean_absolute_error로 바꿔서 실험하기 숙제입니다이게!"
      ],
      "metadata": {
        "id": "7i8jWubJTPZE"
      }
    },
    {
      "cell_type": "code",
      "source": [
        "df = pd.read_csv('Salary.csv')\n",
        "df.head(5) #앞에서부터 5줄을 출력해라 "
      ],
      "metadata": {
        "colab": {
          "base_uri": "https://localhost:8080/",
          "height": 206
        },
        "id": "k8KootIiTSYg",
        "outputId": "04ac35d3-5f41-442a-ba81-96f5c5cf0091"
      },
      "execution_count": null,
      "outputs": [
        {
          "output_type": "execute_result",
          "data": {
            "text/html": [
              "\n",
              "  <div id=\"df-0fedebb1-b6a8-412c-ac58-859d45279e54\">\n",
              "    <div class=\"colab-df-container\">\n",
              "      <div>\n",
              "<style scoped>\n",
              "    .dataframe tbody tr th:only-of-type {\n",
              "        vertical-align: middle;\n",
              "    }\n",
              "\n",
              "    .dataframe tbody tr th {\n",
              "        vertical-align: top;\n",
              "    }\n",
              "\n",
              "    .dataframe thead th {\n",
              "        text-align: right;\n",
              "    }\n",
              "</style>\n",
              "<table border=\"1\" class=\"dataframe\">\n",
              "  <thead>\n",
              "    <tr style=\"text-align: right;\">\n",
              "      <th></th>\n",
              "      <th>YearsExperience</th>\n",
              "      <th>Salary</th>\n",
              "    </tr>\n",
              "  </thead>\n",
              "  <tbody>\n",
              "    <tr>\n",
              "      <th>0</th>\n",
              "      <td>1.1</td>\n",
              "      <td>39343</td>\n",
              "    </tr>\n",
              "    <tr>\n",
              "      <th>1</th>\n",
              "      <td>1.3</td>\n",
              "      <td>46205</td>\n",
              "    </tr>\n",
              "    <tr>\n",
              "      <th>2</th>\n",
              "      <td>1.5</td>\n",
              "      <td>37731</td>\n",
              "    </tr>\n",
              "    <tr>\n",
              "      <th>3</th>\n",
              "      <td>2.0</td>\n",
              "      <td>43525</td>\n",
              "    </tr>\n",
              "    <tr>\n",
              "      <th>4</th>\n",
              "      <td>2.2</td>\n",
              "      <td>39891</td>\n",
              "    </tr>\n",
              "  </tbody>\n",
              "</table>\n",
              "</div>\n",
              "      <button class=\"colab-df-convert\" onclick=\"convertToInteractive('df-0fedebb1-b6a8-412c-ac58-859d45279e54')\"\n",
              "              title=\"Convert this dataframe to an interactive table.\"\n",
              "              style=\"display:none;\">\n",
              "        \n",
              "  <svg xmlns=\"http://www.w3.org/2000/svg\" height=\"24px\"viewBox=\"0 0 24 24\"\n",
              "       width=\"24px\">\n",
              "    <path d=\"M0 0h24v24H0V0z\" fill=\"none\"/>\n",
              "    <path d=\"M18.56 5.44l.94 2.06.94-2.06 2.06-.94-2.06-.94-.94-2.06-.94 2.06-2.06.94zm-11 1L8.5 8.5l.94-2.06 2.06-.94-2.06-.94L8.5 2.5l-.94 2.06-2.06.94zm10 10l.94 2.06.94-2.06 2.06-.94-2.06-.94-.94-2.06-.94 2.06-2.06.94z\"/><path d=\"M17.41 7.96l-1.37-1.37c-.4-.4-.92-.59-1.43-.59-.52 0-1.04.2-1.43.59L10.3 9.45l-7.72 7.72c-.78.78-.78 2.05 0 2.83L4 21.41c.39.39.9.59 1.41.59.51 0 1.02-.2 1.41-.59l7.78-7.78 2.81-2.81c.8-.78.8-2.07 0-2.86zM5.41 20L4 18.59l7.72-7.72 1.47 1.35L5.41 20z\"/>\n",
              "  </svg>\n",
              "      </button>\n",
              "      \n",
              "  <style>\n",
              "    .colab-df-container {\n",
              "      display:flex;\n",
              "      flex-wrap:wrap;\n",
              "      gap: 12px;\n",
              "    }\n",
              "\n",
              "    .colab-df-convert {\n",
              "      background-color: #E8F0FE;\n",
              "      border: none;\n",
              "      border-radius: 50%;\n",
              "      cursor: pointer;\n",
              "      display: none;\n",
              "      fill: #1967D2;\n",
              "      height: 32px;\n",
              "      padding: 0 0 0 0;\n",
              "      width: 32px;\n",
              "    }\n",
              "\n",
              "    .colab-df-convert:hover {\n",
              "      background-color: #E2EBFA;\n",
              "      box-shadow: 0px 1px 2px rgba(60, 64, 67, 0.3), 0px 1px 3px 1px rgba(60, 64, 67, 0.15);\n",
              "      fill: #174EA6;\n",
              "    }\n",
              "\n",
              "    [theme=dark] .colab-df-convert {\n",
              "      background-color: #3B4455;\n",
              "      fill: #D2E3FC;\n",
              "    }\n",
              "\n",
              "    [theme=dark] .colab-df-convert:hover {\n",
              "      background-color: #434B5C;\n",
              "      box-shadow: 0px 1px 3px 1px rgba(0, 0, 0, 0.15);\n",
              "      filter: drop-shadow(0px 1px 2px rgba(0, 0, 0, 0.3));\n",
              "      fill: #FFFFFF;\n",
              "    }\n",
              "  </style>\n",
              "\n",
              "      <script>\n",
              "        const buttonEl =\n",
              "          document.querySelector('#df-0fedebb1-b6a8-412c-ac58-859d45279e54 button.colab-df-convert');\n",
              "        buttonEl.style.display =\n",
              "          google.colab.kernel.accessAllowed ? 'block' : 'none';\n",
              "\n",
              "        async function convertToInteractive(key) {\n",
              "          const element = document.querySelector('#df-0fedebb1-b6a8-412c-ac58-859d45279e54');\n",
              "          const dataTable =\n",
              "            await google.colab.kernel.invokeFunction('convertToInteractive',\n",
              "                                                     [key], {});\n",
              "          if (!dataTable) return;\n",
              "\n",
              "          const docLinkHtml = 'Like what you see? Visit the ' +\n",
              "            '<a target=\"_blank\" href=https://colab.research.google.com/notebooks/data_table.ipynb>data table notebook</a>'\n",
              "            + ' to learn more about interactive tables.';\n",
              "          element.innerHTML = '';\n",
              "          dataTable['output_type'] = 'display_data';\n",
              "          await google.colab.output.renderOutput(dataTable, element);\n",
              "          const docLink = document.createElement('div');\n",
              "          docLink.innerHTML = docLinkHtml;\n",
              "          element.appendChild(docLink);\n",
              "        }\n",
              "      </script>\n",
              "    </div>\n",
              "  </div>\n",
              "  "
            ],
            "text/plain": [
              "   YearsExperience  Salary\n",
              "0              1.1   39343\n",
              "1              1.3   46205\n",
              "2              1.5   37731\n",
              "3              2.0   43525\n",
              "4              2.2   39891"
            ]
          },
          "metadata": {},
          "execution_count": 26
        }
      ]
    },
    {
      "cell_type": "code",
      "source": [
        "print(df.shape)"
      ],
      "metadata": {
        "colab": {
          "base_uri": "https://localhost:8080/"
        },
        "id": "an6SVm1fTler",
        "outputId": "6d015bb5-2846-411b-d238-569338fafe21"
      },
      "execution_count": null,
      "outputs": [
        {
          "output_type": "stream",
          "name": "stdout",
          "text": [
            "(35, 2)\n"
          ]
        }
      ]
    },
    {
      "cell_type": "code",
      "source": [
        "sns.pairplot(df, x_vars=['YearsExperience'], y_vars=['Salary'], height=8)"
      ],
      "metadata": {
        "colab": {
          "base_uri": "https://localhost:8080/",
          "height": 602
        },
        "id": "nQt2ucAYTrrL",
        "outputId": "1445903a-1443-4239-b049-50c7fb8c0cc5"
      },
      "execution_count": null,
      "outputs": [
        {
          "output_type": "execute_result",
          "data": {
            "text/plain": [
              "<seaborn.axisgrid.PairGrid at 0x7f0357d13590>"
            ]
          },
          "metadata": {},
          "execution_count": 31
        },
        {
          "output_type": "display_data",
          "data": {
            "image/png": "[encoded data removed]",
            "text/plain": [
              "<Figure size 576x576 with 1 Axes>"
            ]
          },
          "metadata": {
            "needs_background": "light"
          }
        }
      ]
    },
    {
      "cell_type": "code",
      "source": [
        "x_data = np.array(df[['YearsExperience']], dtype=np.float32) #인풋은항상x\n",
        "y_data = np.array(df['Salary'], dtype=np.float32) #아웃풋은 항상 y \n",
        "\n",
        "print(x_data.shape)\n",
        "print(y_data.shape)"
      ],
      "metadata": {
        "colab": {
          "base_uri": "https://localhost:8080/"
        },
        "id": "ACxEBpOBUT0L",
        "outputId": "38a7e383-4b1b-4c71-b180-91f777c3a357"
      },
      "execution_count": null,
      "outputs": [
        {
          "output_type": "stream",
          "name": "stdout",
          "text": [
            "(35, 1)\n",
            "(35,)\n"
          ]
        }
      ]
    },
    {
      "cell_type": "code",
      "source": [
        "x_data = x_data.reshape((-1, 1)) #-1은 남은수만큼 알아서 변형해라~//1은뒤에가 무조건 1이 되어야한다. \n",
        "y_data = y_data.reshape((-1, 1))\n",
        "#이렇게 reshape을 해야지 keras가 인식을 하기가 편하다. \n",
        "print(x_data.shape)\n",
        "print(y_data.shape)"
      ],
      "metadata": {
        "colab": {
          "base_uri": "https://localhost:8080/"
        },
        "id": "dmw3Tsu6VGl-",
        "outputId": "22b73ceb-095f-4255-b3f2-5f7d5c160158"
      },
      "execution_count": null,
      "outputs": [
        {
          "output_type": "stream",
          "name": "stdout",
          "text": [
            "(35, 1)\n",
            "(35, 1)\n"
          ]
        }
      ]
    },
    {
      "cell_type": "code",
      "source": [
        "x_train, x_val, y_train, y_val = train_test_split(x_data, y_data, test_size=0.2, random_state=2022)\n",
        "\n",
        "print(x_train.shape, x_val.shape)\n",
        "print(y_train.shape, y_val.shape)"
      ],
      "metadata": {
        "colab": {
          "base_uri": "https://localhost:8080/"
        },
        "id": "dXeJi4cXVNh3",
        "outputId": "0dd0904b-3a0f-4337-801c-3906a55d8c43"
      },
      "execution_count": null,
      "outputs": [
        {
          "output_type": "stream",
          "name": "stdout",
          "text": [
            "(28, 1) (7, 1)\n",
            "(28, 1) (7, 1)\n"
          ]
        }
      ]
    },
    {
      "cell_type": "code",
      "source": [
        "model = Sequential([\n",
        "  Dense(1) #출력이 1이기때문에. \n",
        "])\n",
        "\n",
        "model.compile(loss='mean_squared_error', optimizer=SGD(lr=0.01))\n",
        "\n",
        "model.fit( #학습시킬때는 fit! 입혀보는거다! \n",
        "    x_train,\n",
        "    y_train,\n",
        "    validation_data=(x_val, y_val), # 검증 데이터를 넣어주면 한 epoch이 끝날때마다 자동으로 검증\n",
        "    epochs=100 # epochs 복수형으로 쓰기!\n",
        ")"
      ],
      "metadata": {
        "colab": {
          "base_uri": "https://localhost:8080/"
        },
        "id": "6VvigEU4VdS2",
        "outputId": "6e4fc928-28f6-40ff-cd39-b16324e67368"
      },
      "execution_count": null,
      "outputs": [
        {
          "output_type": "stream",
          "name": "stderr",
          "text": [
            "/usr/local/lib/python3.7/dist-packages/keras/optimizer_v2/gradient_descent.py:102: UserWarning: The `lr` argument is deprecated, use `learning_rate` instead.\n",
            "  super(SGD, self).__init__(name, **kwargs)\n"
          ]
        },
        {
          "output_type": "stream",
          "name": "stdout",
          "text": [
            "Epoch 1/100\n",
            "1/1 [==============================] - 1s 1s/step - loss: 8183642624.0000 - val_loss: 269753632.0000\n",
            "Epoch 2/100\n",
            "1/1 [==============================] - 0s 94ms/step - loss: 248483296.0000 - val_loss: 184376352.0000\n",
            "Epoch 3/100\n",
            "1/1 [==============================] - 0s 87ms/step - loss: 221215744.0000 - val_loss: 185758240.0000\n",
            "Epoch 4/100\n",
            "1/1 [==============================] - 0s 94ms/step - loss: 219466272.0000 - val_loss: 183831392.0000\n",
            "Epoch 5/100\n",
            "1/1 [==============================] - 0s 118ms/step - loss: 217813872.0000 - val_loss: 182115984.0000\n",
            "Epoch 6/100\n",
            "1/1 [==============================] - 0s 68ms/step - loss: 216176400.0000 - val_loss: 180407264.0000\n",
            "Epoch 7/100\n",
            "1/1 [==============================] - 0s 54ms/step - loss: 214553472.0000 - val_loss: 178716496.0000\n",
            "Epoch 8/100\n",
            "1/1 [==============================] - 0s 86ms/step - loss: 212945040.0000 - val_loss: 177042960.0000\n",
            "Epoch 9/100\n",
            "1/1 [==============================] - 0s 62ms/step - loss: 211350928.0000 - val_loss: 175386592.0000\n",
            "Epoch 10/100\n",
            "1/1 [==============================] - 0s 83ms/step - loss: 209771024.0000 - val_loss: 173746976.0000\n",
            "Epoch 11/100\n",
            "1/1 [==============================] - 0s 40ms/step - loss: 208205152.0000 - val_loss: 172124192.0000\n",
            "Epoch 12/100\n",
            "1/1 [==============================] - 0s 37ms/step - loss: 206653264.0000 - val_loss: 170517888.0000\n",
            "Epoch 13/100\n",
            "1/1 [==============================] - 0s 45ms/step - loss: 205115104.0000 - val_loss: 168928112.0000\n",
            "Epoch 14/100\n",
            "1/1 [==============================] - 0s 49ms/step - loss: 203590704.0000 - val_loss: 167354512.0000\n",
            "Epoch 15/100\n",
            "1/1 [==============================] - 0s 39ms/step - loss: 202079856.0000 - val_loss: 165797264.0000\n",
            "Epoch 16/100\n",
            "1/1 [==============================] - 0s 44ms/step - loss: 200582512.0000 - val_loss: 164255664.0000\n",
            "Epoch 17/100\n",
            "1/1 [==============================] - 0s 67ms/step - loss: 199098400.0000 - val_loss: 162729968.0000\n",
            "Epoch 18/100\n",
            "1/1 [==============================] - 0s 41ms/step - loss: 197627568.0000 - val_loss: 161220064.0000\n",
            "Epoch 19/100\n",
            "1/1 [==============================] - 0s 42ms/step - loss: 196169840.0000 - val_loss: 159725568.0000\n",
            "Epoch 20/100\n",
            "1/1 [==============================] - 0s 48ms/step - loss: 194725040.0000 - val_loss: 158246384.0000\n",
            "Epoch 21/100\n",
            "1/1 [==============================] - 0s 72ms/step - loss: 193293088.0000 - val_loss: 156782496.0000\n",
            "Epoch 22/100\n",
            "1/1 [==============================] - 0s 38ms/step - loss: 191873936.0000 - val_loss: 155333808.0000\n",
            "Epoch 23/100\n",
            "1/1 [==============================] - 0s 59ms/step - loss: 190467424.0000 - val_loss: 153899728.0000\n",
            "Epoch 24/100\n",
            "1/1 [==============================] - 0s 44ms/step - loss: 189073328.0000 - val_loss: 152480768.0000\n",
            "Epoch 25/100\n",
            "1/1 [==============================] - 0s 35ms/step - loss: 187691776.0000 - val_loss: 151076240.0000\n",
            "Epoch 26/100\n",
            "1/1 [==============================] - 0s 63ms/step - loss: 186322480.0000 - val_loss: 149686192.0000\n",
            "Epoch 27/100\n",
            "1/1 [==============================] - 0s 47ms/step - loss: 184965264.0000 - val_loss: 148310640.0000\n",
            "Epoch 28/100\n",
            "1/1 [==============================] - 0s 50ms/step - loss: 183620272.0000 - val_loss: 146949408.0000\n",
            "Epoch 29/100\n",
            "1/1 [==============================] - 0s 37ms/step - loss: 182287216.0000 - val_loss: 145602080.0000\n",
            "Epoch 30/100\n",
            "1/1 [==============================] - 0s 37ms/step - loss: 180966000.0000 - val_loss: 144268704.0000\n",
            "Epoch 31/100\n",
            "1/1 [==============================] - 0s 40ms/step - loss: 179656544.0000 - val_loss: 142949392.0000\n",
            "Epoch 32/100\n",
            "1/1 [==============================] - 0s 36ms/step - loss: 178358704.0000 - val_loss: 141643600.0000\n",
            "Epoch 33/100\n",
            "1/1 [==============================] - 0s 36ms/step - loss: 177072496.0000 - val_loss: 140351408.0000\n",
            "Epoch 34/100\n",
            "1/1 [==============================] - 0s 40ms/step - loss: 175797712.0000 - val_loss: 139072640.0000\n",
            "Epoch 35/100\n",
            "1/1 [==============================] - 0s 46ms/step - loss: 174534304.0000 - val_loss: 137807120.0000\n",
            "Epoch 36/100\n",
            "1/1 [==============================] - 0s 49ms/step - loss: 173282048.0000 - val_loss: 136554928.0000\n",
            "Epoch 37/100\n",
            "1/1 [==============================] - 0s 42ms/step - loss: 172041056.0000 - val_loss: 135315680.0000\n",
            "Epoch 38/100\n",
            "1/1 [==============================] - 0s 40ms/step - loss: 170811008.0000 - val_loss: 134089456.0000\n",
            "Epoch 39/100\n",
            "1/1 [==============================] - 0s 52ms/step - loss: 169592016.0000 - val_loss: 132876104.0000\n",
            "Epoch 40/100\n",
            "1/1 [==============================] - 0s 66ms/step - loss: 168383856.0000 - val_loss: 131675272.0000\n",
            "Epoch 41/100\n",
            "1/1 [==============================] - 0s 35ms/step - loss: 167186384.0000 - val_loss: 130486984.0000\n",
            "Epoch 42/100\n",
            "1/1 [==============================] - 0s 45ms/step - loss: 165999600.0000 - val_loss: 129311232.0000\n",
            "Epoch 43/100\n",
            "1/1 [==============================] - 0s 41ms/step - loss: 164823344.0000 - val_loss: 128147904.0000\n",
            "Epoch 44/100\n",
            "1/1 [==============================] - 0s 36ms/step - loss: 163657600.0000 - val_loss: 126996680.0000\n",
            "Epoch 45/100\n",
            "1/1 [==============================] - 0s 36ms/step - loss: 162502256.0000 - val_loss: 125857456.0000\n",
            "Epoch 46/100\n",
            "1/1 [==============================] - 0s 36ms/step - loss: 161357136.0000 - val_loss: 124730296.0000\n",
            "Epoch 47/100\n",
            "1/1 [==============================] - 0s 36ms/step - loss: 160222288.0000 - val_loss: 123615064.0000\n",
            "Epoch 48/100\n",
            "1/1 [==============================] - 0s 55ms/step - loss: 159097488.0000 - val_loss: 122511504.0000\n",
            "Epoch 49/100\n",
            "1/1 [==============================] - 0s 38ms/step - loss: 157982736.0000 - val_loss: 121419608.0000\n",
            "Epoch 50/100\n",
            "1/1 [==============================] - 0s 36ms/step - loss: 156877840.0000 - val_loss: 120339000.0000\n",
            "Epoch 51/100\n",
            "1/1 [==============================] - 0s 38ms/step - loss: 155782800.0000 - val_loss: 119270168.0000\n",
            "Epoch 52/100\n",
            "1/1 [==============================] - 0s 53ms/step - loss: 154697568.0000 - val_loss: 118212408.0000\n",
            "Epoch 53/100\n",
            "1/1 [==============================] - 0s 37ms/step - loss: 153621936.0000 - val_loss: 117166008.0000\n",
            "Epoch 54/100\n",
            "1/1 [==============================] - 0s 37ms/step - loss: 152555952.0000 - val_loss: 116130496.0000\n",
            "Epoch 55/100\n",
            "1/1 [==============================] - 0s 43ms/step - loss: 151499408.0000 - val_loss: 115106160.0000\n",
            "Epoch 56/100\n",
            "1/1 [==============================] - 0s 42ms/step - loss: 150452240.0000 - val_loss: 114092496.0000\n",
            "Epoch 57/100\n",
            "1/1 [==============================] - 0s 45ms/step - loss: 149414384.0000 - val_loss: 113089720.0000\n",
            "Epoch 58/100\n",
            "1/1 [==============================] - 0s 51ms/step - loss: 148385792.0000 - val_loss: 112097536.0000\n",
            "Epoch 59/100\n",
            "1/1 [==============================] - 0s 49ms/step - loss: 147366368.0000 - val_loss: 111116112.0000\n",
            "Epoch 60/100\n",
            "1/1 [==============================] - 0s 45ms/step - loss: 146356064.0000 - val_loss: 110145032.0000\n",
            "Epoch 61/100\n",
            "1/1 [==============================] - 0s 57ms/step - loss: 145354672.0000 - val_loss: 109184240.0000\n",
            "Epoch 62/100\n",
            "1/1 [==============================] - 0s 53ms/step - loss: 144362224.0000 - val_loss: 108233848.0000\n",
            "Epoch 63/100\n",
            "1/1 [==============================] - 0s 35ms/step - loss: 143378640.0000 - val_loss: 107293504.0000\n",
            "Epoch 64/100\n",
            "1/1 [==============================] - 0s 43ms/step - loss: 142403808.0000 - val_loss: 106363208.0000\n",
            "Epoch 65/100\n",
            "1/1 [==============================] - 0s 34ms/step - loss: 141437616.0000 - val_loss: 105442920.0000\n",
            "Epoch 66/100\n",
            "1/1 [==============================] - 0s 37ms/step - loss: 140480048.0000 - val_loss: 104532504.0000\n",
            "Epoch 67/100\n",
            "1/1 [==============================] - 0s 33ms/step - loss: 139530992.0000 - val_loss: 103631872.0000\n",
            "Epoch 68/100\n",
            "1/1 [==============================] - 0s 33ms/step - loss: 138590416.0000 - val_loss: 102740808.0000\n",
            "Epoch 69/100\n",
            "1/1 [==============================] - 0s 34ms/step - loss: 137658128.0000 - val_loss: 101859544.0000\n",
            "Epoch 70/100\n",
            "1/1 [==============================] - 0s 35ms/step - loss: 136734240.0000 - val_loss: 100987704.0000\n",
            "Epoch 71/100\n",
            "1/1 [==============================] - 0s 34ms/step - loss: 135818528.0000 - val_loss: 100125200.0000\n",
            "Epoch 72/100\n",
            "1/1 [==============================] - 0s 35ms/step - loss: 134910976.0000 - val_loss: 99272024.0000\n",
            "Epoch 73/100\n",
            "1/1 [==============================] - 0s 34ms/step - loss: 134011504.0000 - val_loss: 98428104.0000\n",
            "Epoch 74/100\n",
            "1/1 [==============================] - 0s 32ms/step - loss: 133120024.0000 - val_loss: 97593304.0000\n",
            "Epoch 75/100\n",
            "1/1 [==============================] - 0s 74ms/step - loss: 132236520.0000 - val_loss: 96767480.0000\n",
            "Epoch 76/100\n",
            "1/1 [==============================] - 0s 66ms/step - loss: 131360824.0000 - val_loss: 95950600.0000\n",
            "Epoch 77/100\n",
            "1/1 [==============================] - 0s 41ms/step - loss: 130492952.0000 - val_loss: 95142736.0000\n",
            "Epoch 78/100\n",
            "1/1 [==============================] - 0s 65ms/step - loss: 129632824.0000 - val_loss: 94343632.0000\n",
            "Epoch 79/100\n",
            "1/1 [==============================] - 0s 45ms/step - loss: 128780344.0000 - val_loss: 93553064.0000\n",
            "Epoch 80/100\n",
            "1/1 [==============================] - 0s 44ms/step - loss: 127935408.0000 - val_loss: 92771256.0000\n",
            "Epoch 81/100\n",
            "1/1 [==============================] - 0s 41ms/step - loss: 127098040.0000 - val_loss: 91997912.0000\n",
            "Epoch 82/100\n",
            "1/1 [==============================] - 0s 49ms/step - loss: 126268136.0000 - val_loss: 91232920.0000\n",
            "Epoch 83/100\n",
            "1/1 [==============================] - 0s 49ms/step - loss: 125445568.0000 - val_loss: 90476584.0000\n",
            "Epoch 84/100\n",
            "1/1 [==============================] - 0s 39ms/step - loss: 124630400.0000 - val_loss: 89728296.0000\n",
            "Epoch 85/100\n",
            "1/1 [==============================] - 0s 43ms/step - loss: 123822416.0000 - val_loss: 88988232.0000\n",
            "Epoch 86/100\n",
            "1/1 [==============================] - 0s 43ms/step - loss: 123021640.0000 - val_loss: 88256320.0000\n",
            "Epoch 87/100\n",
            "1/1 [==============================] - 0s 42ms/step - loss: 122228024.0000 - val_loss: 87532504.0000\n",
            "Epoch 88/100\n",
            "1/1 [==============================] - 0s 45ms/step - loss: 121441400.0000 - val_loss: 86816528.0000\n",
            "Epoch 89/100\n",
            "1/1 [==============================] - 0s 51ms/step - loss: 120661832.0000 - val_loss: 86108504.0000\n",
            "Epoch 90/100\n",
            "1/1 [==============================] - 0s 44ms/step - loss: 119889208.0000 - val_loss: 85408256.0000\n",
            "Epoch 91/100\n",
            "1/1 [==============================] - 0s 47ms/step - loss: 119123416.0000 - val_loss: 84715904.0000\n",
            "Epoch 92/100\n",
            "1/1 [==============================] - 0s 42ms/step - loss: 118364528.0000 - val_loss: 84031032.0000\n",
            "Epoch 93/100\n",
            "1/1 [==============================] - 0s 63ms/step - loss: 117612336.0000 - val_loss: 83353896.0000\n",
            "Epoch 94/100\n",
            "1/1 [==============================] - 0s 52ms/step - loss: 116866856.0000 - val_loss: 82684016.0000\n",
            "Epoch 95/100\n",
            "1/1 [==============================] - 0s 41ms/step - loss: 116128000.0000 - val_loss: 82021744.0000\n",
            "Epoch 96/100\n",
            "1/1 [==============================] - 0s 43ms/step - loss: 115395696.0000 - val_loss: 81366840.0000\n",
            "Epoch 97/100\n",
            "1/1 [==============================] - 0s 42ms/step - loss: 114669960.0000 - val_loss: 80719272.0000\n",
            "Epoch 98/100\n",
            "1/1 [==============================] - 0s 43ms/step - loss: 113950656.0000 - val_loss: 80078848.0000\n",
            "Epoch 99/100\n",
            "1/1 [==============================] - 0s 37ms/step - loss: 113237768.0000 - val_loss: 79445520.0000\n",
            "Epoch 100/100\n",
            "1/1 [==============================] - 0s 54ms/step - loss: 112531248.0000 - val_loss: 78819312.0000\n"
          ]
        },
        {
          "output_type": "execute_result",
          "data": {
            "text/plain": [
              "<keras.callbacks.History at 0x7f035310ac10>"
            ]
          },
          "metadata": {},
          "execution_count": 47
        }
      ]
    },
    {
      "cell_type": "code",
      "source": [
        "y_pred = model.predict(x_val)\n",
        "\n",
        "plt.scatter(x_val, y_val) #plt.scatter 로점을 다다다닥찍어주세요~\n",
        "plt.scatter(x_val, y_pred, color='r')\n",
        "plt.show()#보여주세요 !"
      ],
      "metadata": {
        "colab": {
          "base_uri": "https://localhost:8080/",
          "height": 265
        },
        "id": "9gWaiA-LVq-H",
        "outputId": "c1678e51-a7a8-4a01-ffc8-c99f605d5a89"
      },
      "execution_count": null,
      "outputs": [
        {
          "output_type": "display_data",
          "data": {
            "image/png": "[encoded data removed]",
            "text/plain": [
              "<Figure size 432x288 with 1 Axes>"
            ]
          },
          "metadata": {
            "needs_background": "light"
          }
        }
      ]
    },
    {
      "cell_type": "code",
      "source": [
        "y_pred = model.predict(x_val)#검증!\n",
        "\n",
        "print(y_pred.shape)"
      ],
      "metadata": {
        "colab": {
          "base_uri": "https://localhost:8080/"
        },
        "id": "PpWdq5zDWiAu",
        "outputId": "ca25a45b-f5c4-4034-e4a7-cb1e4dd49b31"
      },
      "execution_count": null,
      "outputs": [
        {
          "output_type": "stream",
          "name": "stdout",
          "text": [
            "(7, 1)\n"
          ]
        }
      ]
    },
    {
      "cell_type": "code",
      "source": [
        "plt.scatter(x_val[:, 0], y_val)\n",
        "plt.scatter(x_val[:, 0], y_pred, color='r')#예측값은빨간색으로찍어\n",
        "plt.show()"
      ],
      "metadata": {
        "colab": {
          "base_uri": "https://localhost:8080/",
          "height": 265
        },
        "id": "7GP2FBb3XO4c",
        "outputId": "c027b783-48ff-4942-9531-047a5cb494db"
      },
      "execution_count": null,
      "outputs": [
        {
          "output_type": "display_data",
          "data": {
            "image/png": "[encoded data removed]",
            "text/plain": [
              "<Figure size 432x288 with 1 Axes>"
            ]
          },
          "metadata": {
            "needs_background": "light"
          }
        }
      ]
    },
    {
      "cell_type": "code",
      "source": [
        ""
      ],
      "metadata": {
        "id": "u7KKa6anXZ4f"
      },
      "execution_count": null,
      "outputs": []
    }
  ]
}